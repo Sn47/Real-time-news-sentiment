{
  "cells": [
    {
      "cell_type": "markdown",
      "metadata": {
        "id": "V537BEhezbWl"
      },
      "source": [
        "# Downloading Required Libraries"
      ]
    },
    {
      "cell_type": "code",
      "execution_count": 1,
      "metadata": {
        "colab": {
          "base_uri": "https://localhost:8080/"
        },
        "id": "PnHAO2CpzEx2",
        "outputId": "6456f6e6-25d1-49ce-d10e-e41b36d2f1c2"
      },
      "outputs": [
        {
          "name": "stdout",
          "output_type": "stream",
          "text": [
            "Requirement already satisfied: beautifulsoup4 in /usr/local/lib/python3.10/dist-packages (4.12.3)\n",
            "Requirement already satisfied: requests in /usr/local/lib/python3.10/dist-packages (2.32.3)\n",
            "Collecting flair\n",
            "  Downloading flair-0.14.0-py3-none-any.whl.metadata (12 kB)\n",
            "Requirement already satisfied: nltk in /usr/local/lib/python3.10/dist-packages (3.8.1)\n",
            "Requirement already satisfied: transformers in /usr/local/lib/python3.10/dist-packages (4.42.4)\n",
            "Requirement already satisfied: textblob in /usr/local/lib/python3.10/dist-packages (0.17.1)\n",
            "Requirement already satisfied: soupsieve>1.2 in /usr/local/lib/python3.10/dist-packages (from beautifulsoup4) (2.5)\n",
            "Requirement already satisfied: charset-normalizer<4,>=2 in /usr/local/lib/python3.10/dist-packages (from requests) (3.3.2)\n",
            "Requirement already satisfied: idna<4,>=2.5 in /usr/local/lib/python3.10/dist-packages (from requests) (3.7)\n",
            "Requirement already satisfied: urllib3<3,>=1.21.1 in /usr/local/lib/python3.10/dist-packages (from requests) (2.0.7)\n",
            "Requirement already satisfied: certifi>=2017.4.17 in /usr/local/lib/python3.10/dist-packages (from requests) (2024.7.4)\n",
            "Collecting boto3>=1.20.27 (from flair)\n",
            "  Downloading boto3-1.34.155-py3-none-any.whl.metadata (6.6 kB)\n",
            "Collecting conllu<5.0.0,>=4.0 (from flair)\n",
            "  Downloading conllu-4.5.3-py2.py3-none-any.whl.metadata (19 kB)\n",
            "Collecting deprecated>=1.2.13 (from flair)\n",
            "  Downloading Deprecated-1.2.14-py2.py3-none-any.whl.metadata (5.4 kB)\n",
            "Collecting ftfy>=6.1.0 (from flair)\n",
            "  Downloading ftfy-6.2.3-py3-none-any.whl.metadata (7.8 kB)\n",
            "Requirement already satisfied: gdown>=4.4.0 in /usr/local/lib/python3.10/dist-packages (from flair) (5.1.0)\n",
            "Requirement already satisfied: huggingface-hub>=0.10.0 in /usr/local/lib/python3.10/dist-packages (from flair) (0.23.5)\n",
            "Collecting langdetect>=1.0.9 (from flair)\n",
            "  Downloading langdetect-1.0.9.tar.gz (981 kB)\n",
            "\u001b[2K     \u001b[90m━━━━━━━━━━━━━━━━━━━━━━━━━━━━━━━━━━━━━━━━\u001b[0m \u001b[32m981.5/981.5 kB\u001b[0m \u001b[31m1.7 MB/s\u001b[0m eta \u001b[36m0:00:00\u001b[0m\n",
            "\u001b[?25h  Preparing metadata (setup.py) ... \u001b[?25l\u001b[?25hdone\n",
            "Requirement already satisfied: lxml>=4.8.0 in /usr/local/lib/python3.10/dist-packages (from flair) (4.9.4)\n",
            "Requirement already satisfied: matplotlib>=2.2.3 in /usr/local/lib/python3.10/dist-packages (from flair) (3.7.1)\n",
            "Requirement already satisfied: more-itertools>=8.13.0 in /usr/local/lib/python3.10/dist-packages (from flair) (10.3.0)\n",
            "Collecting mpld3>=0.3 (from flair)\n",
            "  Downloading mpld3-0.5.10-py3-none-any.whl.metadata (5.1 kB)\n",
            "Collecting pptree>=3.1 (from flair)\n",
            "  Downloading pptree-3.1.tar.gz (3.0 kB)\n",
            "  Preparing metadata (setup.py) ... \u001b[?25l\u001b[?25hdone\n",
            "Requirement already satisfied: python-dateutil>=2.8.2 in /usr/local/lib/python3.10/dist-packages (from flair) (2.8.2)\n",
            "Collecting pytorch-revgrad>=0.2.0 (from flair)\n",
            "  Downloading pytorch_revgrad-0.2.0-py3-none-any.whl.metadata (1.7 kB)\n",
            "Requirement already satisfied: regex>=2022.1.18 in /usr/local/lib/python3.10/dist-packages (from flair) (2024.5.15)\n",
            "Requirement already satisfied: scikit-learn>=1.0.2 in /usr/local/lib/python3.10/dist-packages (from flair) (1.3.2)\n",
            "Collecting segtok>=1.5.11 (from flair)\n",
            "  Downloading segtok-1.5.11-py3-none-any.whl.metadata (9.0 kB)\n",
            "Collecting sqlitedict>=2.0.0 (from flair)\n",
            "  Downloading sqlitedict-2.1.0.tar.gz (21 kB)\n",
            "  Preparing metadata (setup.py) ... \u001b[?25l\u001b[?25hdone\n",
            "Requirement already satisfied: tabulate>=0.8.10 in /usr/local/lib/python3.10/dist-packages (from flair) (0.9.0)\n",
            "Requirement already satisfied: torch!=1.8,>=1.5.0 in /usr/local/lib/python3.10/dist-packages (from flair) (2.3.1+cu121)\n",
            "Requirement already satisfied: tqdm>=4.63.0 in /usr/local/lib/python3.10/dist-packages (from flair) (4.66.5)\n",
            "Collecting transformer-smaller-training-vocab>=0.2.3 (from flair)\n",
            "  Downloading transformer_smaller_training_vocab-0.4.0-py3-none-any.whl.metadata (8.1 kB)\n",
            "Collecting wikipedia-api>=0.5.7 (from flair)\n",
            "  Downloading Wikipedia_API-0.6.0-py3-none-any.whl.metadata (22 kB)\n",
            "Collecting semver<4.0.0,>=3.0.0 (from flair)\n",
            "  Downloading semver-3.0.2-py3-none-any.whl.metadata (5.0 kB)\n",
            "Collecting bioc<3.0.0,>=2.0.0 (from flair)\n",
            "  Downloading bioc-2.1-py3-none-any.whl.metadata (4.6 kB)\n",
            "Requirement already satisfied: click in /usr/local/lib/python3.10/dist-packages (from nltk) (8.1.7)\n",
            "Requirement already satisfied: joblib in /usr/local/lib/python3.10/dist-packages (from nltk) (1.4.2)\n",
            "Requirement already satisfied: filelock in /usr/local/lib/python3.10/dist-packages (from transformers) (3.15.4)\n",
            "Requirement already satisfied: numpy<2.0,>=1.17 in /usr/local/lib/python3.10/dist-packages (from transformers) (1.26.4)\n",
            "Requirement already satisfied: packaging>=20.0 in /usr/local/lib/python3.10/dist-packages (from transformers) (24.1)\n",
            "Requirement already satisfied: pyyaml>=5.1 in /usr/local/lib/python3.10/dist-packages (from transformers) (6.0.1)\n",
            "Requirement already satisfied: safetensors>=0.4.1 in /usr/local/lib/python3.10/dist-packages (from transformers) (0.4.4)\n",
            "Requirement already satisfied: tokenizers<0.20,>=0.19 in /usr/local/lib/python3.10/dist-packages (from transformers) (0.19.1)\n",
            "Collecting jsonlines>=1.2.0 (from bioc<3.0.0,>=2.0.0->flair)\n",
            "  Downloading jsonlines-4.0.0-py3-none-any.whl.metadata (1.6 kB)\n",
            "Collecting intervaltree (from bioc<3.0.0,>=2.0.0->flair)\n",
            "  Downloading intervaltree-3.1.0.tar.gz (32 kB)\n",
            "  Preparing metadata (setup.py) ... \u001b[?25l\u001b[?25hdone\n",
            "Collecting docopt (from bioc<3.0.0,>=2.0.0->flair)\n",
            "  Downloading docopt-0.6.2.tar.gz (25 kB)\n",
            "  Preparing metadata (setup.py) ... \u001b[?25l\u001b[?25hdone\n",
            "Collecting botocore<1.35.0,>=1.34.155 (from boto3>=1.20.27->flair)\n",
            "  Downloading botocore-1.34.155-py3-none-any.whl.metadata (5.7 kB)\n",
            "Collecting jmespath<2.0.0,>=0.7.1 (from boto3>=1.20.27->flair)\n",
            "  Downloading jmespath-1.0.1-py3-none-any.whl.metadata (7.6 kB)\n",
            "Collecting s3transfer<0.11.0,>=0.10.0 (from boto3>=1.20.27->flair)\n",
            "  Downloading s3transfer-0.10.2-py3-none-any.whl.metadata (1.7 kB)\n",
            "Requirement already satisfied: wrapt<2,>=1.10 in /usr/local/lib/python3.10/dist-packages (from deprecated>=1.2.13->flair) (1.16.0)\n",
            "Requirement already satisfied: wcwidth<0.3.0,>=0.2.12 in /usr/local/lib/python3.10/dist-packages (from ftfy>=6.1.0->flair) (0.2.13)\n",
            "Requirement already satisfied: fsspec>=2023.5.0 in /usr/local/lib/python3.10/dist-packages (from huggingface-hub>=0.10.0->flair) (2024.6.1)\n",
            "Requirement already satisfied: typing-extensions>=3.7.4.3 in /usr/local/lib/python3.10/dist-packages (from huggingface-hub>=0.10.0->flair) (4.12.2)\n",
            "Requirement already satisfied: six in /usr/local/lib/python3.10/dist-packages (from langdetect>=1.0.9->flair) (1.16.0)\n",
            "Requirement already satisfied: contourpy>=1.0.1 in /usr/local/lib/python3.10/dist-packages (from matplotlib>=2.2.3->flair) (1.2.1)\n",
            "Requirement already satisfied: cycler>=0.10 in /usr/local/lib/python3.10/dist-packages (from matplotlib>=2.2.3->flair) (0.12.1)\n",
            "Requirement already satisfied: fonttools>=4.22.0 in /usr/local/lib/python3.10/dist-packages (from matplotlib>=2.2.3->flair) (4.53.1)\n",
            "Requirement already satisfied: kiwisolver>=1.0.1 in /usr/local/lib/python3.10/dist-packages (from matplotlib>=2.2.3->flair) (1.4.5)\n",
            "Requirement already satisfied: pillow>=6.2.0 in /usr/local/lib/python3.10/dist-packages (from matplotlib>=2.2.3->flair) (9.4.0)\n",
            "Requirement already satisfied: pyparsing>=2.3.1 in /usr/local/lib/python3.10/dist-packages (from matplotlib>=2.2.3->flair) (3.1.2)\n",
            "Requirement already satisfied: jinja2 in /usr/local/lib/python3.10/dist-packages (from mpld3>=0.3->flair) (3.1.4)\n",
            "Requirement already satisfied: scipy>=1.5.0 in /usr/local/lib/python3.10/dist-packages (from scikit-learn>=1.0.2->flair) (1.13.1)\n",
            "Requirement already satisfied: threadpoolctl>=2.0.0 in /usr/local/lib/python3.10/dist-packages (from scikit-learn>=1.0.2->flair) (3.5.0)\n",
            "Requirement already satisfied: sympy in /usr/local/lib/python3.10/dist-packages (from torch!=1.8,>=1.5.0->flair) (1.13.1)\n",
            "Requirement already satisfied: networkx in /usr/local/lib/python3.10/dist-packages (from torch!=1.8,>=1.5.0->flair) (3.3)\n",
            "Collecting nvidia-cuda-nvrtc-cu12==12.1.105 (from torch!=1.8,>=1.5.0->flair)\n",
            "  Using cached nvidia_cuda_nvrtc_cu12-12.1.105-py3-none-manylinux1_x86_64.whl.metadata (1.5 kB)\n",
            "Collecting nvidia-cuda-runtime-cu12==12.1.105 (from torch!=1.8,>=1.5.0->flair)\n",
            "  Using cached nvidia_cuda_runtime_cu12-12.1.105-py3-none-manylinux1_x86_64.whl.metadata (1.5 kB)\n",
            "Collecting nvidia-cuda-cupti-cu12==12.1.105 (from torch!=1.8,>=1.5.0->flair)\n",
            "  Using cached nvidia_cuda_cupti_cu12-12.1.105-py3-none-manylinux1_x86_64.whl.metadata (1.6 kB)\n",
            "Collecting nvidia-cudnn-cu12==8.9.2.26 (from torch!=1.8,>=1.5.0->flair)\n",
            "  Using cached nvidia_cudnn_cu12-8.9.2.26-py3-none-manylinux1_x86_64.whl.metadata (1.6 kB)\n",
            "Collecting nvidia-cublas-cu12==12.1.3.1 (from torch!=1.8,>=1.5.0->flair)\n",
            "  Using cached nvidia_cublas_cu12-12.1.3.1-py3-none-manylinux1_x86_64.whl.metadata (1.5 kB)\n",
            "Collecting nvidia-cufft-cu12==11.0.2.54 (from torch!=1.8,>=1.5.0->flair)\n",
            "  Using cached nvidia_cufft_cu12-11.0.2.54-py3-none-manylinux1_x86_64.whl.metadata (1.5 kB)\n",
            "Collecting nvidia-curand-cu12==10.3.2.106 (from torch!=1.8,>=1.5.0->flair)\n",
            "  Using cached nvidia_curand_cu12-10.3.2.106-py3-none-manylinux1_x86_64.whl.metadata (1.5 kB)\n",
            "Collecting nvidia-cusolver-cu12==11.4.5.107 (from torch!=1.8,>=1.5.0->flair)\n",
            "  Using cached nvidia_cusolver_cu12-11.4.5.107-py3-none-manylinux1_x86_64.whl.metadata (1.6 kB)\n",
            "Collecting nvidia-cusparse-cu12==12.1.0.106 (from torch!=1.8,>=1.5.0->flair)\n",
            "  Using cached nvidia_cusparse_cu12-12.1.0.106-py3-none-manylinux1_x86_64.whl.metadata (1.6 kB)\n",
            "Collecting nvidia-nccl-cu12==2.20.5 (from torch!=1.8,>=1.5.0->flair)\n",
            "  Using cached nvidia_nccl_cu12-2.20.5-py3-none-manylinux2014_x86_64.whl.metadata (1.8 kB)\n",
            "Collecting nvidia-nvtx-cu12==12.1.105 (from torch!=1.8,>=1.5.0->flair)\n",
            "  Using cached nvidia_nvtx_cu12-12.1.105-py3-none-manylinux1_x86_64.whl.metadata (1.7 kB)\n",
            "Requirement already satisfied: triton==2.3.1 in /usr/local/lib/python3.10/dist-packages (from torch!=1.8,>=1.5.0->flair) (2.3.1)\n",
            "Collecting nvidia-nvjitlink-cu12 (from nvidia-cusolver-cu12==11.4.5.107->torch!=1.8,>=1.5.0->flair)\n",
            "  Using cached nvidia_nvjitlink_cu12-12.6.20-py3-none-manylinux2014_x86_64.whl.metadata (1.5 kB)\n",
            "Requirement already satisfied: protobuf in /usr/local/lib/python3.10/dist-packages (from transformers[sentencepiece]<5.0.0,>=4.18.0->flair) (3.20.3)\n",
            "Requirement already satisfied: sentencepiece!=0.1.92,>=0.1.91 in /usr/local/lib/python3.10/dist-packages (from transformers[sentencepiece]<5.0.0,>=4.18.0->flair) (0.1.99)\n",
            "Requirement already satisfied: attrs>=19.2.0 in /usr/local/lib/python3.10/dist-packages (from jsonlines>=1.2.0->bioc<3.0.0,>=2.0.0->flair) (24.1.0)\n",
            "Requirement already satisfied: accelerate>=0.21.0 in /usr/local/lib/python3.10/dist-packages (from transformers[sentencepiece,torch]<5.0,>=4.1->transformer-smaller-training-vocab>=0.2.3->flair) (0.32.1)\n",
            "Requirement already satisfied: sortedcontainers<3.0,>=2.0 in /usr/local/lib/python3.10/dist-packages (from intervaltree->bioc<3.0.0,>=2.0.0->flair) (2.4.0)\n",
            "Requirement already satisfied: MarkupSafe>=2.0 in /usr/local/lib/python3.10/dist-packages (from jinja2->mpld3>=0.3->flair) (2.1.5)\n",
            "Requirement already satisfied: PySocks!=1.5.7,>=1.5.6 in /usr/local/lib/python3.10/dist-packages (from requests[socks]->gdown>=4.4.0->flair) (1.7.1)\n",
            "Requirement already satisfied: mpmath<1.4,>=1.1.0 in /usr/local/lib/python3.10/dist-packages (from sympy->torch!=1.8,>=1.5.0->flair) (1.3.0)\n",
            "Requirement already satisfied: psutil in /usr/local/lib/python3.10/dist-packages (from accelerate>=0.21.0->transformers[sentencepiece,torch]<5.0,>=4.1->transformer-smaller-training-vocab>=0.2.3->flair) (5.9.5)\n",
            "Downloading flair-0.14.0-py3-none-any.whl (776 kB)\n",
            "\u001b[2K   \u001b[90m━━━━━━━━━━━━━━━━━━━━━━━━━━━━━━━━━━━━━━━━\u001b[0m \u001b[32m776.5/776.5 kB\u001b[0m \u001b[31m2.8 MB/s\u001b[0m eta \u001b[36m0:00:00\u001b[0m\n",
            "\u001b[?25hDownloading bioc-2.1-py3-none-any.whl (33 kB)\n",
            "Downloading boto3-1.34.155-py3-none-any.whl (139 kB)\n",
            "\u001b[2K   \u001b[90m━━━━━━━━━━━━━━━━━━━━━━━━━━━━━━━━━━━━━━━━\u001b[0m \u001b[32m139.2/139.2 kB\u001b[0m \u001b[31m2.6 MB/s\u001b[0m eta \u001b[36m0:00:00\u001b[0m\n",
            "\u001b[?25hDownloading conllu-4.5.3-py2.py3-none-any.whl (16 kB)\n",
            "Downloading Deprecated-1.2.14-py2.py3-none-any.whl (9.6 kB)\n",
            "Downloading ftfy-6.2.3-py3-none-any.whl (43 kB)\n",
            "\u001b[2K   \u001b[90m━━━━━━━━━━━━━━━━━━━━━━━━━━━━━━━━━━━━━━━━\u001b[0m \u001b[32m43.0/43.0 kB\u001b[0m \u001b[31m2.4 MB/s\u001b[0m eta \u001b[36m0:00:00\u001b[0m\n",
            "\u001b[?25hDownloading mpld3-0.5.10-py3-none-any.whl (202 kB)\n",
            "\u001b[2K   \u001b[90m━━━━━━━━━━━━━━━━━━━━━━━━━━━━━━━━━━━━━━━━\u001b[0m \u001b[32m202.6/202.6 kB\u001b[0m \u001b[31m3.1 MB/s\u001b[0m eta \u001b[36m0:00:00\u001b[0m\n",
            "\u001b[?25hDownloading pytorch_revgrad-0.2.0-py3-none-any.whl (4.6 kB)\n",
            "Downloading segtok-1.5.11-py3-none-any.whl (24 kB)\n",
            "Downloading semver-3.0.2-py3-none-any.whl (17 kB)\n",
            "Using cached nvidia_cublas_cu12-12.1.3.1-py3-none-manylinux1_x86_64.whl (410.6 MB)\n",
            "Using cached nvidia_cuda_cupti_cu12-12.1.105-py3-none-manylinux1_x86_64.whl (14.1 MB)\n",
            "Using cached nvidia_cuda_nvrtc_cu12-12.1.105-py3-none-manylinux1_x86_64.whl (23.7 MB)\n",
            "Using cached nvidia_cuda_runtime_cu12-12.1.105-py3-none-manylinux1_x86_64.whl (823 kB)\n",
            "Using cached nvidia_cudnn_cu12-8.9.2.26-py3-none-manylinux1_x86_64.whl (731.7 MB)\n",
            "Using cached nvidia_cufft_cu12-11.0.2.54-py3-none-manylinux1_x86_64.whl (121.6 MB)\n",
            "Using cached nvidia_curand_cu12-10.3.2.106-py3-none-manylinux1_x86_64.whl (56.5 MB)\n",
            "Using cached nvidia_cusolver_cu12-11.4.5.107-py3-none-manylinux1_x86_64.whl (124.2 MB)\n",
            "Using cached nvidia_cusparse_cu12-12.1.0.106-py3-none-manylinux1_x86_64.whl (196.0 MB)\n",
            "Using cached nvidia_nccl_cu12-2.20.5-py3-none-manylinux2014_x86_64.whl (176.2 MB)\n",
            "Using cached nvidia_nvtx_cu12-12.1.105-py3-none-manylinux1_x86_64.whl (99 kB)\n",
            "Downloading transformer_smaller_training_vocab-0.4.0-py3-none-any.whl (14 kB)\n",
            "Downloading Wikipedia_API-0.6.0-py3-none-any.whl (14 kB)\n",
            "Downloading botocore-1.34.155-py3-none-any.whl (12.5 MB)\n",
            "\u001b[2K   \u001b[90m━━━━━━━━━━━━━━━━━━━━━━━━━━━━━━━━━━━━━━━━\u001b[0m \u001b[32m12.5/12.5 MB\u001b[0m \u001b[31m8.3 MB/s\u001b[0m eta \u001b[36m0:00:00\u001b[0m\n",
            "\u001b[?25hDownloading jmespath-1.0.1-py3-none-any.whl (20 kB)\n",
            "Downloading jsonlines-4.0.0-py3-none-any.whl (8.7 kB)\n",
            "Downloading s3transfer-0.10.2-py3-none-any.whl (82 kB)\n",
            "\u001b[2K   \u001b[90m━━━━━━━━━━━━━━━━━━━━━━━━━━━━━━━━━━━━━━━━\u001b[0m \u001b[32m82.7/82.7 kB\u001b[0m \u001b[31m5.8 MB/s\u001b[0m eta \u001b[36m0:00:00\u001b[0m\n",
            "\u001b[?25hUsing cached nvidia_nvjitlink_cu12-12.6.20-py3-none-manylinux2014_x86_64.whl (19.7 MB)\n",
            "Building wheels for collected packages: langdetect, pptree, sqlitedict, docopt, intervaltree\n",
            "  Building wheel for langdetect (setup.py) ... \u001b[?25l\u001b[?25hdone\n",
            "  Created wheel for langdetect: filename=langdetect-1.0.9-py3-none-any.whl size=993221 sha256=9a605b5a10a2451ac506f0cf332222bcaebfe25b35a0888d1d5a1fefbb3cd9cf\n",
            "  Stored in directory: /root/.cache/pip/wheels/95/03/7d/59ea870c70ce4e5a370638b5462a7711ab78fba2f655d05106\n",
            "  Building wheel for pptree (setup.py) ... \u001b[?25l\u001b[?25hdone\n",
            "  Created wheel for pptree: filename=pptree-3.1-py3-none-any.whl size=4609 sha256=8f96597ac323d2e1ef903a876b0aef34c27d1b1eb9307e647b5cd5d3a279747b\n",
            "  Stored in directory: /root/.cache/pip/wheels/9f/b6/0e/6f26eb9e6eb53ff2107a7888d72b5a6a597593956113037828\n",
            "  Building wheel for sqlitedict (setup.py) ... \u001b[?25l\u001b[?25hdone\n",
            "  Created wheel for sqlitedict: filename=sqlitedict-2.1.0-py3-none-any.whl size=16863 sha256=afc17e7b78dcb57db87f3afa5d0535bb6b7ddafb940faa854461ac6ff2d57205\n",
            "  Stored in directory: /root/.cache/pip/wheels/79/d6/e7/304e0e6cb2221022c26d8161f7c23cd4f259a9e41e8bbcfabd\n",
            "  Building wheel for docopt (setup.py) ... \u001b[?25l\u001b[?25hdone\n",
            "  Created wheel for docopt: filename=docopt-0.6.2-py2.py3-none-any.whl size=13704 sha256=eb2d753168977be15c605bcffe0e04f20abd5e71b7d9b9b28913a5ff30a586d6\n",
            "  Stored in directory: /root/.cache/pip/wheels/fc/ab/d4/5da2067ac95b36618c629a5f93f809425700506f72c9732fac\n",
            "  Building wheel for intervaltree (setup.py) ... \u001b[?25l\u001b[?25hdone\n",
            "  Created wheel for intervaltree: filename=intervaltree-3.1.0-py2.py3-none-any.whl size=26096 sha256=0242e3f1a4e689fbc3f7c90fccedc181e664178adf62fa61c9ad56948e0bf70d\n",
            "  Stored in directory: /root/.cache/pip/wheels/fa/80/8c/43488a924a046b733b64de3fac99252674c892a4c3801c0a61\n",
            "Successfully built langdetect pptree sqlitedict docopt intervaltree\n",
            "Installing collected packages: sqlitedict, pptree, docopt, semver, segtok, nvidia-nvtx-cu12, nvidia-nvjitlink-cu12, nvidia-nccl-cu12, nvidia-curand-cu12, nvidia-cufft-cu12, nvidia-cuda-runtime-cu12, nvidia-cuda-nvrtc-cu12, nvidia-cuda-cupti-cu12, nvidia-cublas-cu12, langdetect, jsonlines, jmespath, intervaltree, ftfy, deprecated, conllu, wikipedia-api, nvidia-cusparse-cu12, nvidia-cudnn-cu12, botocore, bioc, s3transfer, nvidia-cusolver-cu12, mpld3, boto3, pytorch-revgrad, transformer-smaller-training-vocab, flair\n",
            "Successfully installed bioc-2.1 boto3-1.34.155 botocore-1.34.155 conllu-4.5.3 deprecated-1.2.14 docopt-0.6.2 flair-0.14.0 ftfy-6.2.3 intervaltree-3.1.0 jmespath-1.0.1 jsonlines-4.0.0 langdetect-1.0.9 mpld3-0.5.10 nvidia-cublas-cu12-12.1.3.1 nvidia-cuda-cupti-cu12-12.1.105 nvidia-cuda-nvrtc-cu12-12.1.105 nvidia-cuda-runtime-cu12-12.1.105 nvidia-cudnn-cu12-8.9.2.26 nvidia-cufft-cu12-11.0.2.54 nvidia-curand-cu12-10.3.2.106 nvidia-cusolver-cu12-11.4.5.107 nvidia-cusparse-cu12-12.1.0.106 nvidia-nccl-cu12-2.20.5 nvidia-nvjitlink-cu12-12.6.20 nvidia-nvtx-cu12-12.1.105 pptree-3.1 pytorch-revgrad-0.2.0 s3transfer-0.10.2 segtok-1.5.11 semver-3.0.2 sqlitedict-2.1.0 transformer-smaller-training-vocab-0.4.0 wikipedia-api-0.6.0\n"
          ]
        }
      ],
      "source": [
        "!pip install beautifulsoup4 requests flair nltk transformers textblob"
      ]
    },
    {
      "cell_type": "code",
      "execution_count": 2,
      "metadata": {
        "colab": {
          "base_uri": "https://localhost:8080/"
        },
        "id": "10BHKqxcbdys",
        "outputId": "1ab24ea6-9d7e-4d77-e7db-9d911d9e097b"
      },
      "outputs": [
        {
          "name": "stdout",
          "output_type": "stream",
          "text": [
            "Requirement already satisfied: tensorflow in /usr/local/lib/python3.10/dist-packages (2.17.0)\n",
            "Requirement already satisfied: absl-py>=1.0.0 in /usr/local/lib/python3.10/dist-packages (from tensorflow) (1.4.0)\n",
            "Requirement already satisfied: astunparse>=1.6.0 in /usr/local/lib/python3.10/dist-packages (from tensorflow) (1.6.3)\n",
            "Requirement already satisfied: flatbuffers>=24.3.25 in /usr/local/lib/python3.10/dist-packages (from tensorflow) (24.3.25)\n",
            "Requirement already satisfied: gast!=0.5.0,!=0.5.1,!=0.5.2,>=0.2.1 in /usr/local/lib/python3.10/dist-packages (from tensorflow) (0.6.0)\n",
            "Requirement already satisfied: google-pasta>=0.1.1 in /usr/local/lib/python3.10/dist-packages (from tensorflow) (0.2.0)\n",
            "Requirement already satisfied: h5py>=3.10.0 in /usr/local/lib/python3.10/dist-packages (from tensorflow) (3.11.0)\n",
            "Requirement already satisfied: libclang>=13.0.0 in /usr/local/lib/python3.10/dist-packages (from tensorflow) (18.1.1)\n",
            "Requirement already satisfied: ml-dtypes<0.5.0,>=0.3.1 in /usr/local/lib/python3.10/dist-packages (from tensorflow) (0.4.0)\n",
            "Requirement already satisfied: opt-einsum>=2.3.2 in /usr/local/lib/python3.10/dist-packages (from tensorflow) (3.3.0)\n",
            "Requirement already satisfied: packaging in /usr/local/lib/python3.10/dist-packages (from tensorflow) (24.1)\n",
            "Requirement already satisfied: protobuf!=4.21.0,!=4.21.1,!=4.21.2,!=4.21.3,!=4.21.4,!=4.21.5,<5.0.0dev,>=3.20.3 in /usr/local/lib/python3.10/dist-packages (from tensorflow) (3.20.3)\n",
            "Requirement already satisfied: requests<3,>=2.21.0 in /usr/local/lib/python3.10/dist-packages (from tensorflow) (2.32.3)\n",
            "Requirement already satisfied: setuptools in /usr/local/lib/python3.10/dist-packages (from tensorflow) (71.0.4)\n",
            "Requirement already satisfied: six>=1.12.0 in /usr/local/lib/python3.10/dist-packages (from tensorflow) (1.16.0)\n",
            "Requirement already satisfied: termcolor>=1.1.0 in /usr/local/lib/python3.10/dist-packages (from tensorflow) (2.4.0)\n",
            "Requirement already satisfied: typing-extensions>=3.6.6 in /usr/local/lib/python3.10/dist-packages (from tensorflow) (4.12.2)\n",
            "Requirement already satisfied: wrapt>=1.11.0 in /usr/local/lib/python3.10/dist-packages (from tensorflow) (1.16.0)\n",
            "Requirement already satisfied: grpcio<2.0,>=1.24.3 in /usr/local/lib/python3.10/dist-packages (from tensorflow) (1.64.1)\n",
            "Requirement already satisfied: tensorboard<2.18,>=2.17 in /usr/local/lib/python3.10/dist-packages (from tensorflow) (2.17.0)\n",
            "Requirement already satisfied: keras>=3.2.0 in /usr/local/lib/python3.10/dist-packages (from tensorflow) (3.4.1)\n",
            "Requirement already satisfied: tensorflow-io-gcs-filesystem>=0.23.1 in /usr/local/lib/python3.10/dist-packages (from tensorflow) (0.37.1)\n",
            "Requirement already satisfied: numpy<2.0.0,>=1.23.5 in /usr/local/lib/python3.10/dist-packages (from tensorflow) (1.26.4)\n",
            "Requirement already satisfied: wheel<1.0,>=0.23.0 in /usr/local/lib/python3.10/dist-packages (from astunparse>=1.6.0->tensorflow) (0.44.0)\n",
            "Requirement already satisfied: rich in /usr/local/lib/python3.10/dist-packages (from keras>=3.2.0->tensorflow) (13.7.1)\n",
            "Requirement already satisfied: namex in /usr/local/lib/python3.10/dist-packages (from keras>=3.2.0->tensorflow) (0.0.8)\n",
            "Requirement already satisfied: optree in /usr/local/lib/python3.10/dist-packages (from keras>=3.2.0->tensorflow) (0.12.1)\n",
            "Requirement already satisfied: charset-normalizer<4,>=2 in /usr/local/lib/python3.10/dist-packages (from requests<3,>=2.21.0->tensorflow) (3.3.2)\n",
            "Requirement already satisfied: idna<4,>=2.5 in /usr/local/lib/python3.10/dist-packages (from requests<3,>=2.21.0->tensorflow) (3.7)\n",
            "Requirement already satisfied: urllib3<3,>=1.21.1 in /usr/local/lib/python3.10/dist-packages (from requests<3,>=2.21.0->tensorflow) (2.0.7)\n",
            "Requirement already satisfied: certifi>=2017.4.17 in /usr/local/lib/python3.10/dist-packages (from requests<3,>=2.21.0->tensorflow) (2024.7.4)\n",
            "Requirement already satisfied: markdown>=2.6.8 in /usr/local/lib/python3.10/dist-packages (from tensorboard<2.18,>=2.17->tensorflow) (3.6)\n",
            "Requirement already satisfied: tensorboard-data-server<0.8.0,>=0.7.0 in /usr/local/lib/python3.10/dist-packages (from tensorboard<2.18,>=2.17->tensorflow) (0.7.2)\n",
            "Requirement already satisfied: werkzeug>=1.0.1 in /usr/local/lib/python3.10/dist-packages (from tensorboard<2.18,>=2.17->tensorflow) (3.0.3)\n",
            "Requirement already satisfied: MarkupSafe>=2.1.1 in /usr/local/lib/python3.10/dist-packages (from werkzeug>=1.0.1->tensorboard<2.18,>=2.17->tensorflow) (2.1.5)\n",
            "Requirement already satisfied: markdown-it-py>=2.2.0 in /usr/local/lib/python3.10/dist-packages (from rich->keras>=3.2.0->tensorflow) (3.0.0)\n",
            "Requirement already satisfied: pygments<3.0.0,>=2.13.0 in /usr/local/lib/python3.10/dist-packages (from rich->keras>=3.2.0->tensorflow) (2.16.1)\n",
            "Requirement already satisfied: mdurl~=0.1 in /usr/local/lib/python3.10/dist-packages (from markdown-it-py>=2.2.0->rich->keras>=3.2.0->tensorflow) (0.1.2)\n"
          ]
        }
      ],
      "source": [
        "\n",
        "pip install --upgrade tensorflow"
      ]
    },
    {
      "cell_type": "code",
      "execution_count": 3,
      "metadata": {
        "id": "OqBAuUVMQQrt"
      },
      "outputs": [],
      "source": [
        "# !pip install tensorflow==2.3.0"
      ]
    },
    {
      "cell_type": "code",
      "execution_count": 4,
      "metadata": {
        "colab": {
          "base_uri": "https://localhost:8080/"
        },
        "id": "BwTkOJ_C1muC",
        "outputId": "a824693b-434c-493f-b942-3c8d148a2027"
      },
      "outputs": [
        {
          "name": "stderr",
          "output_type": "stream",
          "text": [
            "[nltk_data] Downloading package stopwords to /root/nltk_data...\n",
            "[nltk_data]   Unzipping corpora/stopwords.zip.\n",
            "[nltk_data] Downloading package punkt to /root/nltk_data...\n",
            "[nltk_data]   Unzipping tokenizers/punkt.zip.\n",
            "[nltk_data] Downloading package wordnet to /root/nltk_data...\n",
            "[nltk_data] Downloading package vader_lexicon to /root/nltk_data...\n"
          ]
        },
        {
          "data": {
            "text/plain": [
              "True"
            ]
          },
          "execution_count": 4,
          "metadata": {},
          "output_type": "execute_result"
        }
      ],
      "source": [
        "import os\n",
        "import requests\n",
        "import re\n",
        "import nltk  # Import all nltk modules together\n",
        "import pandas as pd\n",
        "from datetime import datetime, timedelta\n",
        "from bs4 import BeautifulSoup\n",
        "from nltk.corpus import stopwords\n",
        "from nltk.tokenize import word_tokenize\n",
        "from nltk.stem import WordNetLemmatizer\n",
        "from nltk.sentiment.vader import SentimentIntensityAnalyzer\n",
        "from transformers import pipeline\n",
        "\n",
        "import matplotlib.pyplot as plt\n",
        "import seaborn as sns\n",
        "from flair.models import TextClassifier\n",
        "from flair.data import Sentence\n",
        "\n",
        "from nltk.sentiment.vader import SentimentIntensityAnalyzer\n",
        "import matplotlib.pyplot as plt\n",
        "from textblob import TextBlob\n",
        "import os\n",
        "\n",
        "nltk.download('stopwords')\n",
        "nltk.download('punkt')\n",
        "nltk.download('wordnet')\n",
        "nltk.download('vader_lexicon')\n"
      ]
    },
    {
      "cell_type": "code",
      "execution_count": 5,
      "metadata": {
        "id": "Vfxm7LEI_1sW"
      },
      "outputs": [],
      "source": [
        "\n",
        "file_txt=\"webpage_text.txt\"\n",
        "summary_txt=\"webpage_summary.txt\""
      ]
    },
    {
      "cell_type": "code",
      "execution_count": 6,
      "metadata": {
        "id": "A_ypoRkE3-eA"
      },
      "outputs": [],
      "source": [
        "# Global Model Initialization\n",
        "# HF_TOKEN = os.environ.get('your_key')\n",
        "# MODEL_NAME = \"facebook/bart-large-cnn\"\n",
        "# summarizer = pipeline(\"summarization\", model=MODEL_NAME, tokenizer=MODEL_NAME, use_auth_token=HF_TOKEN)"
      ]
    },
    {
      "cell_type": "markdown",
      "metadata": {
        "id": "T4KlP1P7VnaY"
      },
      "source": [
        "# Acquiring News Articles Using NewsApi"
      ]
    },
    {
      "cell_type": "markdown",
      "metadata": {},
      "source": [
        "The sources from which we want news articles"
      ]
    },
    {
      "cell_type": "code",
      "execution_count": 7,
      "metadata": {
        "id": "sHecTeehgRXV"
      },
      "outputs": [],
      "source": [
        "sources = [\n",
        "    \"cnn\", \"bbc-news\", \"financial-times\", \"the-new-york-times\", \"the-washington-post\",\n",
        "    \"arabianbusiness\", \"gulf-business\", \"khaleej-times\", \"al-jazeera-english\",\n",
        "    \"the-japan-times\", \"the-times-of-india\", \"hindustan-times\", \"the-economist\",\n",
        "    \"the-sun\", \"daily-mail\"\n",
        "]\n",
        "sources_str = \",\".join(sources)\n",
        "newsapi_key = 'f64a529ddebb4b3c8e790d61d904526d'"
      ]
    },
    {
      "cell_type": "markdown",
      "metadata": {},
      "source": [
        "Retrieving articles for the keyword"
      ]
    },
    {
      "cell_type": "code",
      "execution_count": 8,
      "metadata": {
        "id": "iAe1VAE75V15"
      },
      "outputs": [],
      "source": [
        "\n",
        "def get_news(keyword, api_key, sources,list_of_articles):\n",
        "    yesterday = datetime.now() - timedelta(days=1)\n",
        "    yesterday_str = yesterday.strftime('%Y-%m-%d')\n",
        "\n",
        "    url = 'https://newsapi.org/v2/everything'\n",
        "\n",
        "\n",
        "    params = {\n",
        "        'q': keyword,\n",
        "        'from': yesterday_str,\n",
        "        'sortBy': 'publishedAt',\n",
        "        'pageSize': 20,#number of articles\n",
        "        'language': 'en',#language for articles\n",
        "        'sources': sources_str,\n",
        "        'apiKey': api_key\n",
        "    }\n",
        "\n",
        "    response = requests.get(url, params=params)\n",
        "\n",
        "    if response.status_code == 200:\n",
        "        articles = response.json().get('articles', [])\n",
        "        if articles:\n",
        "            for article in articles:\n",
        "                list_of_articles.append(article['url'])\n",
        "                print(article['url'])\n",
        "        else:\n",
        "            print(f\"No articles found for '{keyword}' from specified sources on {yesterday_str}.\")\n",
        "    else:\n",
        "        error_message = response.json().get('message', 'Unknown error')\n",
        "        print(f\"Error: {error_message} (status code: {response.status_code})\")\n",
        "\n",
        "\n",
        "\n",
        "\n"
      ]
    },
    {
      "cell_type": "markdown",
      "metadata": {
        "id": "fa1f_hxS6S6B"
      },
      "source": [
        "# Web Scrapper"
      ]
    },
    {
      "cell_type": "code",
      "execution_count": 9,
      "metadata": {
        "id": "BHtUKRHG9tm6"
      },
      "outputs": [],
      "source": [
        "\n",
        "def clean_text(text):\n",
        "\n",
        "    text = re.sub(r'\\s+', ' ', text)\n",
        "    text = re.sub(r'[^A-Za-z0-9\\s.,!?]', '', text)\n",
        "    return text.strip()\n",
        "#function which collects data from given link (as of now we are not using summarizer as it was taking too much time)\n",
        "def summarize_webpage2(url, model_name=\"facebook/bart-large-cnn\"):\n",
        "    HF_TOKEN = os.environ.get('your_key')\n",
        "\n",
        "    try:\n",
        "        response = requests.get(url)\n",
        "        response.raise_for_status()\n",
        "\n",
        "        soup = BeautifulSoup(response.content, 'html.parser')\n",
        "\n",
        "        # Remove unnecessary elements\n",
        "        for tag in soup([\"script\", \"style\", \"header\", \"footer\", \"nav\", \"aside\", \"form\"]):\n",
        "            tag.decompose()\n",
        "        ad_classes_ids = [\n",
        "            \"ad\", \"ads\", \"advertisement\", \"banner\", \"promo\", \"sponsored\", \"popup\", \"outbrain\"\n",
        "        ]\n",
        "        for class_id in ad_classes_ids:\n",
        "            for tag in soup.find_all(class_=class_id):\n",
        "                tag.decompose()\n",
        "            for tag in soup.find_all(id=class_id):\n",
        "                tag.decompose()\n",
        "\n",
        "        # Extract the main content\n",
        "        paragraphs = soup.find_all('p')\n",
        "        body_text = \" \".join([para.get_text() for para in paragraphs])\n",
        "\n",
        "\n",
        "        cleaned_text = clean_text(body_text)\n",
        "\n",
        "        print(\"Cleaned Web-scraped data:\\n\", cleaned_text)\n",
        "\n",
        "        # summarizer = pipeline(\"summarization\", model=model_name, use_auth_token=HF_TOKEN)\n",
        "\n",
        "        # max_chunk_length = 1024\n",
        "        # chunks = [cleaned_text[i:i+max_chunk_length] for i in range(0, len(cleaned_text), max_chunk_length)]\n",
        "\n",
        "        summary = \"\"\n",
        "        # for chunk in chunks:\n",
        "        #     summary += summarizer(chunk, max_length=130, min_length=30, do_sample=False)[0]['summary_text'] + \" \"\n",
        "\n",
        "        return summary.strip(), cleaned_text\n",
        "\n",
        "    except requests.exceptions.RequestException as e:\n",
        "        print(f\"Error fetching webpage: {e}\")\n",
        "        return None, None\n",
        "    except Exception as e:\n",
        "        print(f\"An error occurred: {e}\")\n",
        "        return None, None\n",
        "\n",
        "\n"
      ]
    },
    {
      "cell_type": "code",
      "execution_count": 10,
      "metadata": {
        "id": "vflOYJd9-UiD"
      },
      "outputs": [],
      "source": [
        "def getlinks(keyword,file_txt,summary_txt):\n",
        "\n",
        "  list_of_articles = []\n",
        "  get_news(keyword, newsapi_key, sources,list_of_articles)\n",
        "  return list_of_articles"
      ]
    },
    {
      "cell_type": "markdown",
      "metadata": {},
      "source": [
        "Getting links from newsapi and passing those links to our function and saving all data to a file"
      ]
    },
    {
      "cell_type": "code",
      "execution_count": 11,
      "metadata": {
        "id": "cRlTpRuTAWZE"
      },
      "outputs": [],
      "source": [
        "def get_data_for_sentiment(keyword):\n",
        "    list_of_articles=getlinks(keyword,file_txt,summary_txt)\n",
        "    if not os.path.exists(summary_txt):\n",
        "        open(summary_txt, 'w').close()\n",
        "    if not os.path.exists(file_txt):\n",
        "        open(file_txt, 'w').close()\n",
        "\n",
        "    with open(summary_txt, \"a\") as summary_file, open(file_txt, \"a\") as text_file:\n",
        "        for idx, url in enumerate(list_of_articles):\n",
        "            print(f\"Processing URL {idx + 1}/{len(list_of_articles)}: {url}\")\n",
        "\n",
        "            summary, text = summarize_webpage2(url)\n",
        "\n",
        "            if text:\n",
        "                summary_file.write(summary )\n",
        "                text_file.write(text )\n",
        "                print(f\"Summary and text saved for URL {idx + 1}\")\n",
        "            else:\n",
        "                print(f\"No summary available for URL {idx + 1}\")\n",
        "    try:\n",
        "        with open(file_txt, \"r\") as file:\n",
        "            text = file.read()\n",
        "        return text\n",
        "    except FileNotFoundError:\n",
        "        print(f\"Error: File '{file_txt}' not found.\")\n",
        "        exit(1)"
      ]
    },
    {
      "cell_type": "markdown",
      "metadata": {
        "id": "Oo5PN0RAbsjV"
      },
      "source": [
        "# **Sentiment Analysis**"
      ]
    },
    {
      "cell_type": "markdown",
      "metadata": {
        "id": "l6w_X1U7Yagv"
      },
      "source": [
        "## Sentiment Analysis using TextBLOB"
      ]
    },
    {
      "cell_type": "code",
      "execution_count": 26,
      "metadata": {
        "id": "q-HpLNG0QQrx"
      },
      "outputs": [],
      "source": [
        "def analyse_sentiment_txtblob(text):\n",
        "    blob = TextBlob(text)\n",
        "    sentiment = blob.sentiment\n",
        "\n",
        "    print(f\"Sentiment using textblob: Polarity={sentiment.polarity:.3f}, Subjectivity={sentiment.subjectivity:.3f}\")\n",
        "    sentiment_filename_text_blob = \"webpage_sentiment_text_blob.txt\"\n",
        "    with open(sentiment_filename_text_blob, \"w\") as f:\n",
        "        f.write(f\"Sentiment: Polarity={sentiment.polarity:.3f}, Subjectivity={sentiment.subjectivity:.3f}\")\n",
        "\n",
        "    # Graphical Representation\n",
        "    plt.figure(figsize=(8, 4))\n",
        "\n",
        "    plt.subplot(1, 2, 1)\n",
        "    plt.bar([\"Polarity\"], [sentiment.polarity], color=\"skyblue\")\n",
        "    plt.ylim([-1, 1])\n",
        "    plt.title(\"Sentiment Polarity\")\n",
        "    plt.ylabel(\"Polarity Score\")\n",
        "    plt.axhline(0, color=\"gray\", linestyle=\"--\")\n",
        "\n",
        "    plt.subplot(1, 2, 2)\n",
        "    plt.bar([\"Subjectivity\"], [sentiment.subjectivity], color=\"lightcoral\")\n",
        "    plt.ylim([0, 1])\n",
        "    plt.title(\"Sentiment Subjectivity\")\n",
        "    plt.ylabel(\"Subjectivity Score\")\n",
        "\n",
        "    plt.tight_layout()\n",
        "    plt.savefig(\"sentiment_plot.png\")\n",
        "    plt.show()\n"
      ]
    },
    {
      "cell_type": "markdown",
      "metadata": {
        "id": "tTNu9gTUdHc9"
      },
      "source": [
        "Polarity refers to whether the sentiment expressed in a text is positive, negative, or neutral.\n",
        "\n",
        "*  -1 (extremely negative) to 1 (extremely positive)\n",
        "\n"
      ]
    },
    {
      "cell_type": "markdown",
      "metadata": {
        "id": "jYOZXxpEd72l"
      },
      "source": [
        "Subjectivity refers to the degree to which a text expresses personal opinions, feelings, or judgments rather than objective facts.\n",
        "It is also represented as a numeric score ranging from 0 (completely objective) to 1 (completely subjective)."
      ]
    },
    {
      "cell_type": "markdown",
      "metadata": {
        "id": "QN3DTiuAWljG"
      },
      "source": [
        "## Sentiment Analysis using VADER"
      ]
    },
    {
      "cell_type": "code",
      "execution_count": 13,
      "metadata": {
        "id": "Brd-KavkE0SP"
      },
      "outputs": [],
      "source": [
        "def plot_sentiment(sentiments):\n",
        "    plt.figure(figsize=(10, 5))\n",
        "    pos = [s['pos'] for s in sentiments]\n",
        "    neu = [s['neu'] for s in sentiments]\n",
        "    neg = [s['neg'] for s in sentiments]\n",
        "    compound = [s['compound'] for s in sentiments]\n",
        "\n",
        "    sentiment_df = {\n",
        "        'Positive': pos,\n",
        "        'Neutral': neu,\n",
        "        'Negative': neg,\n",
        "        'Compound': compound\n",
        "    }\n",
        "\n",
        "    sns.boxplot(data=sentiment_df)\n",
        "    plt.title('Sentiment Analysis using VADER')\n",
        "    plt.show()\n",
        "\n"
      ]
    },
    {
      "cell_type": "code",
      "execution_count": 14,
      "metadata": {
        "id": "-3dmKD4IQQrx"
      },
      "outputs": [],
      "source": [
        "\n",
        "def analyse_sentiment_vader(text):\n",
        "  #Some better data cleaning \n",
        "  def preprocess_text(text):\n",
        "\n",
        "      soup = BeautifulSoup(text, \"html.parser\")\n",
        "      text = soup.get_text()\n",
        "      text = text.lower()\n",
        "      text = re.sub(r'[^\\w\\s]', '', text)\n",
        "      tokens = word_tokenize(text)\n",
        "      stop_words = set(stopwords.words('english'))\n",
        "      tokens = [word for word in tokens if word not in stop_words]\n",
        "      lemmatizer = WordNetLemmatizer()\n",
        "      tokens = [lemmatizer.lemmatize(word) for word in tokens]\n",
        "      tokens = [word for word in tokens if word.isalpha()]\n",
        "      tokens = [word for word in tokens if len(word) > 2]\n",
        "      tokens = list(set(tokens))\n",
        "      return ' '.join(tokens)\n",
        "\n",
        "\n",
        "  article_descriptions = text.split('\\n')\n",
        "  preprocessed_descriptions = [preprocess_text(desc) for desc in article_descriptions if desc.strip()]\n",
        "\n",
        "\n",
        "  def analyze_sentiment(text):\n",
        "      sid = SentimentIntensityAnalyzer()\n",
        "      return sid.polarity_scores(text)\n",
        "\n",
        "  sentiment_results = [analyze_sentiment(desc) for desc in preprocessed_descriptions]\n",
        "\n",
        "\n",
        "\n",
        "  # Visualize the sentiment analysis results\n",
        "  def plot_sentiment(sentiments):\n",
        "      plt.figure(figsize=(10, 5))\n",
        "      pos = [s['pos'] for s in sentiments]\n",
        "      neu = [s['neu'] for s in sentiments]\n",
        "      neg = [s['neg'] for s in sentiments]\n",
        "      compound = [s['compound'] for s in sentiments]\n",
        "\n",
        "      sentiment_df = {\n",
        "          'Positive': pos,\n",
        "          'Neutral': neu,\n",
        "          'Negative': neg,\n",
        "          'Compound': compound\n",
        "      }\n",
        "\n",
        "      sns.boxplot(data=sentiment_df)\n",
        "      plt.title('Sentiment Analysis using VADER')\n",
        "      plt.show()\n",
        "\n",
        "\n",
        "  plot_sentiment(sentiment_results)\n",
        "    # for idx, result in enumerate(sentiment_results):\n",
        "    #     print(f\"Text {idx + 1}: {result}\")\n",
        "\n",
        "\n",
        "\n",
        "  # Calculate average for each sentiment category\n",
        "  average_sentiments = {\n",
        "      'neg': sum(d['neg'] for d in sentiment_results) / len(sentiment_results),\n",
        "      'neu': sum(d['neu'] for d in sentiment_results) / len(sentiment_results),\n",
        "      'pos': sum(d['pos'] for d in sentiment_results) / len(sentiment_results),\n",
        "      'compound': sum(d['compound'] for d in sentiment_results) / len(sentiment_results)\n",
        "  }\n",
        "\n",
        "  # Display the combined sentiment results\n",
        "  print(\"Combined Sentiment Results:\")\n",
        "  print(f\"Negative: {average_sentiments['neg']:.3f}\")\n",
        "  print(f\"Neutral: {average_sentiments['neu']:.3f}\")\n",
        "  print(f\"Positive: {average_sentiments['pos']:.3f}\")\n",
        "  print(f\"Compound: {average_sentiments['compound']:.3f}\")\n"
      ]
    },
    {
      "cell_type": "code",
      "execution_count": 14,
      "metadata": {
        "id": "mS_07tfQGpve"
      },
      "outputs": [],
      "source": []
    },
    {
      "cell_type": "markdown",
      "metadata": {
        "id": "dYfg0DEPvoE7"
      },
      "source": [
        "## NLTK (Natural Language Toolkit)"
      ]
    },
    {
      "cell_type": "code",
      "execution_count": 15,
      "metadata": {
        "id": "IER2cMq8vOVJ"
      },
      "outputs": [],
      "source": [
        "def analyse_sentiment_nltk(text):\n",
        "  analyzer = SentimentIntensityAnalyzer()\n",
        "  nltk_sentiment = analyzer.polarity_scores(text)\n",
        "  print(\"\\n\\nSentiment Analysis using NLTK:\")\n",
        "  print(nltk_sentiment)\n",
        "  print(\"\\n\\n\")\n"
      ]
    },
    {
      "cell_type": "markdown",
      "metadata": {
        "id": "W1h0yv-3nULs"
      },
      "source": [
        "## Sentiment Analysis using spacy"
      ]
    },
    {
      "cell_type": "markdown",
      "metadata": {},
      "source": [
        "It was not performing better than just using library on its own"
      ]
    },
    {
      "cell_type": "code",
      "execution_count": 16,
      "metadata": {
        "id": "3jSWNAu_kgIu"
      },
      "outputs": [],
      "source": [
        "# import spacy\n",
        "# from textblob import TextBlob\n",
        "\n",
        "# nlp = spacy.load('en_core_web_sm')\n",
        "\n",
        "# def analyze_sentiment(text):\n",
        "#     doc = nlp(text)\n",
        "#     polarity = TextBlob(text).sentiment.polarity  # Using TextBlob here\n",
        "#     subjectivity = TextBlob(text).sentiment.subjectivity\n",
        "#     return polarity, subjectivity\n",
        "\n",
        "\n",
        "\n",
        "# polarity, subjectivity = analyze_sentiment(text)\n",
        "# print(f\"Polarity: {polarity}, Subjectivity: {subjectivity}\")\n"
      ]
    },
    {
      "cell_type": "code",
      "execution_count": 17,
      "metadata": {
        "id": "j7R6JrCjlq4G"
      },
      "outputs": [],
      "source": [
        "# import matplotlib.pyplot as plt\n",
        "\n",
        "\n",
        "\n",
        "# sentiments = [analyze_sentiment(t) for t in text]\n",
        "# polarities, subjectivities = zip(*sentiments)\n",
        "\n",
        "# plt.figure(figsize=(10, 6))\n",
        "# plt.scatter(polarities, subjectivities, color=['green' if p > 0 else 'red' for p in polarities])\n",
        "# plt.xlabel('Polarity')\n",
        "# plt.ylabel('Subjectivity')\n",
        "# plt.title('Sentiment Analysis')\n",
        "# plt.show()\n"
      ]
    },
    {
      "cell_type": "markdown",
      "metadata": {
        "id": "4CMgutvoWSnj"
      },
      "source": [
        "## Sentiment Analysis with Flair"
      ]
    },
    {
      "cell_type": "markdown",
      "metadata": {},
      "source": [
        "The best performing model but it only gives result in either positive or negative"
      ]
    },
    {
      "cell_type": "code",
      "execution_count": 18,
      "metadata": {
        "id": "uhHDS4XUe1gu"
      },
      "outputs": [],
      "source": [
        "\n",
        "def analyse_sentiment_flair(text):\n",
        "  classifier = TextClassifier.load('en-sentiment')\n",
        "  sentence = Sentence(text)\n",
        "  classifier.predict(sentence)\n",
        "\n",
        "  # Extract Label and Score\n",
        "  label = sentence.labels[0].value\n",
        "  score = sentence.labels[0].score\n",
        "\n",
        "\n",
        "  sentiment_intensity = \"Very \" if score > 0.75 else \"\"\n",
        "  color = \"skyblue\" if label == \"POSITIVE\" else \"lightcoral\"\n",
        "\n",
        "\n",
        "  print(\"\\nSentiment Analysis with Flair:\")\n",
        "  print(f\"Overall Sentiment: {sentiment_intensity}{label}\")\n",
        "  print(f\"Confidence: {score:.2%}\")\n",
        "\n",
        "\n",
        "  plt.figure(figsize=(8, 4))\n",
        "  plt.bar([\"Sentiment\"], [score], color=color)\n",
        "  plt.ylim([0, 1])\n",
        "\n",
        "  plt.ylabel(\"Confidence\")\n",
        "  plt.xlabel(f\"Sentiment: {sentiment_intensity}{label}\")\n",
        "  plt.text(0, score, f\"{score:.2%}\", ha='center', va='bottom')\n",
        "  for spine in plt.gca().spines.values():\n",
        "      spine.set_visible(False)\n",
        "  plt.savefig(\"flair_sentiment_plot.png\")\n",
        "  plt.show()\n"
      ]
    },
    {
      "cell_type": "markdown",
      "metadata": {
        "id": "7WD1_LAa6DmO"
      },
      "source": [
        "## Sentiment Analysis using hugging face"
      ]
    },
    {
      "cell_type": "code",
      "execution_count": 19,
      "metadata": {
        "id": "8-X3eYsNzmBR"
      },
      "outputs": [],
      "source": [
        "# from transformers import pipeline\n",
        "\n",
        "# sentiment_analyzer = pipeline(\"sentiment-analysis\")\n",
        "# result = sentiment_analyzer(summary)\n",
        "# print(result)"
      ]
    },
    {
      "cell_type": "code",
      "execution_count": 20,
      "metadata": {
        "id": "VqPNwiZ11iCb"
      },
      "outputs": [],
      "source": [
        "# import torch\n",
        "# from transformers import pipeline, AutoTokenizer, AutoModelForSequenceClassification\n",
        "\n",
        "\n",
        "# def load_model():\n",
        "#     tokenizer = AutoTokenizer.from_pretrained(\"allenai/longformer-base-4096\")\n",
        "#     model = AutoModelForSequenceClassification.from_pretrained(\"allenai/longformer-base-4096\")\n",
        "#     return model, tokenizer\n",
        "\n",
        "# def analyze_sentiments(articles, model, tokenizer):\n",
        "#     results = []\n",
        "#     window_size = 512\n",
        "#     overlap = 50\n",
        "\n",
        "#     for article in articles:\n",
        "#         if article.strip():\n",
        "#             tokens = tokenizer.encode(article, add_special_tokens=True)\n",
        "#             chunk_scores = []\n",
        "#             for i in range(0, len(tokens), window_size - overlap):\n",
        "#                 chunk = tokens[i:i+window_size]\n",
        "#                 input_ids = torch.tensor([chunk])\n",
        "#                 outputs = model(input_ids)\n",
        "#                 scores = outputs.logits.softmax(dim=-1)\n",
        "#                 chunk_scores.append(scores[:,1].item())\n",
        "\n",
        "\n",
        "#             final_score = sum(chunk_scores) / len(chunk_scores)\n",
        "#             label = \"POSITIVE\" if final_score > 0.5 else \"NEGATIVE\"\n",
        "#             results.append({\"label\": label, \"score\": final_score})\n",
        "#     return results\n",
        "\n",
        "\n",
        "# def read_file(file_path):\n",
        "#     with open(file_path, 'r', encoding='utf-8') as file:\n",
        "#         articles = file.read()\n",
        "#     return articles\n",
        "\n",
        "\n"
      ]
    },
    {
      "cell_type": "code",
      "execution_count": 21,
      "metadata": {
        "id": "MPUicMjn2PzW"
      },
      "outputs": [],
      "source": [
        "# def main(file_path):\n",
        "#     articles = read_file(file_path)\n",
        "#     model, tokenizer = load_model()\n",
        "#     sentiment_results = analyze_sentiments(articles, model, tokenizer)\n",
        "\n",
        "#     for idx, result in enumerate(sentiment_results):\n",
        "#         print(f\"Article {idx + 1}: Sentiment: {result['label']}, Score: {result['score']}\")\n",
        "#     return result\n",
        "\n",
        "\n",
        "# print(main(file_txt))"
      ]
    },
    {
      "cell_type": "markdown",
      "metadata": {
        "id": "-Tl7w8Y9BPMa"
      },
      "source": [
        "# Main"
      ]
    },
    {
      "cell_type": "code",
      "execution_count": 22,
      "metadata": {
        "id": "9v02AJnU32qe"
      },
      "outputs": [],
      "source": [
        "def all_sentiment_analysis():\n",
        "  text=get_data_for_sentiment(\"Bangladesh\")\n",
        "\n",
        "  print(text)\n",
        "\n",
        "\n",
        "  return text"
      ]
    },
    {
      "cell_type": "code",
      "execution_count": 23,
      "metadata": {
        "colab": {
          "base_uri": "https://localhost:8080/"
        },
        "id": "E6hykiYb9VuF",
        "outputId": "52fc0d41-c6a3-4520-dca2-db2b83b4b276"
      },
      "outputs": [
        {
          "name": "stdout",
          "output_type": "stream",
          "text": [
            "https://economictimes.indiatimes.com/news/india/india-in-touch-with-bangladesh-authorities-eam-jaishankar-informs-parliament/articleshow/112327145.cms\n",
            "https://economictimes.indiatimes.com/news/india/the-revival-of-isi-backed-jamaat-e-islami-in-bangladesh-does-not-bode-well-for-india/articleshow/112327115.cms\n",
            "https://timesofindia.indiatimes.com/city/agartala/hindu-saints-stormed-agartala-street-seeking-indias-intervention-to-protect-minorities-in-bangladesh/articleshow/112327010.cms\n",
            "https://economictimes.indiatimes.com/news/economy/foreign-trade/regional-fta-easier-fdi-customs-integration-key-for-bimstec-says-cii-study/articleshow/112326494.cms\n",
            "https://economictimes.indiatimes.com/news/india/curfew-in-manipurs-pherzawl-and-jiribam-districts-on-fears-of-illegal-immigrant-influx-from-bangladesh/articleshow/112326111.cms\n",
            "https://timesofindia.indiatimes.com/technology/laptops-pc/apple-macbook-air-m1-is-available-for-rs-52641-only-on-amazon-check-bank-offers-and-discount/articleshow/112326386.cms\n",
            "https://economictimes.indiatimes.com/news/international/world-news/khaleda-zia-bitterest-foe-of-sheikh-hasina-freed-after-bangladesh-pm-flees/articleshow/112326213.cms\n",
            "https://economictimes.indiatimes.com/markets/stocks/etmarkets-podcast/stock-markets-fail-to-keep-the-momentum-up-financials-drag/podcast/112326162.cms\n",
            "https://timesofindia.indiatimes.com/technology/mobiles-tabs/apple-iphone-15-is-available-for-just-rs-31105-on-amazon-heres-how-the-deal-works/articleshow/112325879.cms\n",
            "https://economictimes.indiatimes.com/news/international/world-news/bangladesh-crisis-from-iron-lady-to-asylum-seeker-a-timeline-of-sheikh-hasinas-downfall/videoshow/112325848.cms\n",
            "https://timesofindia.indiatimes.com/city/mumbai/maharashtra-cm-shinde-contacts-mea-for-students-from-state-in-bangladesh/articleshow/112325468.cms\n",
            "https://economictimes.indiatimes.com/news/economy/foreign-trade/trade-continues-between-tripura-and-bangladesh-but-volume-drops-amid-turmoil/articleshow/112324817.cms\n",
            "https://economictimes.indiatimes.com/news/india/with-rafales-in-air-and-radars-active-how-india-ensured-safety-of-sheikh-hasinas-jet/videoshow/112325167.cms\n",
            "https://economictimes.indiatimes.com/news/india/bsf-deploys-11-battalions-1-water-wing-on-high-alert-along-indo-bangladesh-border/articleshow/112324931.cms\n",
            "https://economictimes.indiatimes.com/news/international/world-news/eu-diplomats-in-bangladesh-very-concerned-about-reports-of-attacks-on-minorities-statement/articleshow/112324899.cms\n",
            "https://timesofindia.indiatimes.com/india/dhaka-flights-ai-operated-one-on-tuesday-indigo-vistara-to-fly-on-wednesday/articleshow/112324713.cms\n",
            "https://www.bbc.co.uk/programmes/w172zb903hstsn0\n",
            "https://economictimes.indiatimes.com/news/politics-and-nation/bangladesh-unrest-everyone-has-to-accept-the-importance-of-the-caa-says-suvendu-adhikari/videoshow/112324334.cms\n",
            "https://timesofindia.indiatimes.com/india/bihar-govt-hopes-for-early-restoration-of-democracy-in-trouble-torn-bangladesh/articleshow/112324153.cms\n",
            "https://timesofindia.indiatimes.com/india/vhp-urges-centre-to-ensure-safety-of-hindus-and-other-minorities-in-bangladesh/articleshow/112323760.cms\n",
            "Processing URL 1/20: https://economictimes.indiatimes.com/news/india/india-in-touch-with-bangladesh-authorities-eam-jaishankar-informs-parliament/articleshow/112327145.cms\n",
            "Cleaned Web-scraped data:\n",
            " Catch all the Business News, Breaking News, Budget 2024 Events and Latest News Updates on The Economic Times. Subscribe to The Economic Times Prime and read the ET ePaper online. Catch all the Business News, Breaking News, Budget 2024 Events and Latest News Updates on The Economic Times. Subscribe to The Economic Times Prime and read the ET ePaper online. Bhavish Aggarwals long road from Kabul to Koramangala Ajay Tyagis UTI Flexi Cap Fund has underperformed. He is now betting on this idea. There is a dark side to Zomato. But that is what will drive future profits. Indias journey from Dand to Nyay to tackle economic offences Investors face weapons of mass destruction in Yen and the gun Five key problems for India arising from the coup in Bangladesh Worry not. Youre just a step away. It seems like youre already an ETPrime member with Login using your ET Prime credentials to enjoy all member benefits Log out of your current loggedin account and log in again using your ET Prime credentials to enjoy all member benefits. To read full story, subscribe to ET Prime 34 per week Billed annually at 2499 1749 Super Saver Sale  Flat 30 Off On ET Prime Membership Offer Exclusively For You Save up to Rs. 700 ON ET PRIME MEMBERSHIP Offer Exclusively For You Get 1 Year Free With 1 and 2Year ET prime membership Offer Exclusively For You Get 1 Year Free With 1 and 2Year ET prime membership Offer Exclusively For You Get Flat 40 Off Then  1749 for 1 year Offer Exclusively For You ET Prime at  49 for 1 month Then  1749 for 1 year Freedom Offer Get flat 20 off on ETPrime 90 Days Prime access worth Rs999 unlocked for you Exclusive Economic Times Stories, Editorials  Expert opinion across 20 sectors Stock analysis. Market Research. Industry Trends on 4000 Stocks Get 1 Year Complimentary Subscription of TOI worth Rs.799 Stories you might be interested in\n",
            "Summary and text saved for URL 1\n",
            "Processing URL 2/20: https://economictimes.indiatimes.com/news/india/the-revival-of-isi-backed-jamaat-e-islami-in-bangladesh-does-not-bode-well-for-india/articleshow/112327115.cms\n",
            "Cleaned Web-scraped data:\n",
            " Catch all the Business News, Breaking News, Budget 2024 Events and Latest News Updates on The Economic Times. Subscribe to The Economic Times Prime and read the ET ePaper online. Catch all the Business News, Breaking News, Budget 2024 Events and Latest News Updates on The Economic Times. Subscribe to The Economic Times Prime and read the ET ePaper online. IndiGos stretch from nofrills to business class has a DNA test coming There is a dark side to Zomato. But that is what will drive future profits. Five key problems for India arising from the coup in Bangladesh Indias journey from Dand to Nyay to tackle economic offences The Japanese market collapse kills yencarry trade. Whats in store for investors? Investors face weapons of mass destruction in Yen and the gun Worry not. Youre just a step away. It seems like youre already an ETPrime member with Login using your ET Prime credentials to enjoy all member benefits Log out of your current loggedin account and log in again using your ET Prime credentials to enjoy all member benefits. To read full story, subscribe to ET Prime 34 per week Billed annually at 2499 1749 Super Saver Sale  Flat 30 Off On ET Prime Membership Offer Exclusively For You Save up to Rs. 700 ON ET PRIME MEMBERSHIP Offer Exclusively For You Get 1 Year Free With 1 and 2Year ET prime membership Offer Exclusively For You Get 1 Year Free With 1 and 2Year ET prime membership Offer Exclusively For You Get Flat 40 Off Then  1749 for 1 year Offer Exclusively For You ET Prime at  49 for 1 month Then  1749 for 1 year Freedom Offer Get flat 20 off on ETPrime 90 Days Prime access worth Rs999 unlocked for you Exclusive Economic Times Stories, Editorials  Expert opinion across 20 sectors Stock analysis. Market Research. Industry Trends on 4000 Stocks Get 1 Year Complimentary Subscription of TOI worth Rs.799 Stories you might be interested in\n",
            "Summary and text saved for URL 2\n",
            "Processing URL 3/20: https://timesofindia.indiatimes.com/city/agartala/hindu-saints-stormed-agartala-street-seeking-indias-intervention-to-protect-minorities-in-bangladesh/articleshow/112327010.cms\n",
            "Cleaned Web-scraped data:\n",
            " 8 flowers and plants that will attract birds to your garden 9 habits which will keep your skin young 10 delicious dishes to pair with Idli beyond Sambhar International Tiger Day Indian national parks famous for Bengal tigers 10 negative impacts of strict parenting International Beer Day 2024 8 types of beer and ingredients used in making them Beautiful baby girl names with letter M 10 most famous wildlife safaris across the globe Sawan special Easy Makhana Mango Barfi made under 10 mins 10 bird species extinct due to loss of habitat\n",
            "Summary and text saved for URL 3\n",
            "Processing URL 4/20: https://economictimes.indiatimes.com/news/economy/foreign-trade/regional-fta-easier-fdi-customs-integration-key-for-bimstec-says-cii-study/articleshow/112326494.cms\n",
            "Cleaned Web-scraped data:\n",
            " Catch all the Business News, Breaking News, Budget 2024 Events and Latest News Updates on The Economic Times. Subscribe to The Economic Times Prime and read the ET ePaper online. Catch all the Business News, Breaking News, Budget 2024 Events and Latest News Updates on The Economic Times. Subscribe to The Economic Times Prime and read the ET ePaper online. Bhavish Aggarwals long road from Kabul to Koramangala Ajay Tyagi is betting on this idea. Will it help him to outperform the benchmark? Why Nvidias stock fall reminds us of Amazon during the dotcom mania What exactly is being done about those annoying spam calls? There is a dark side to Zomato. But that is what will drive future profits. Indias journey from Dand to Nyay to tackle economic offences Worry not. Youre just a step away. It seems like youre already an ETPrime member with Login using your ET Prime credentials to enjoy all member benefits Log out of your current loggedin account and log in again using your ET Prime credentials to enjoy all member benefits. To read full story, subscribe to ET Prime 34 per week Billed annually at 2499 1749 Super Saver Sale  Flat 30 Off On ET Prime Membership Offer Exclusively For You Save up to Rs. 700 ON ET PRIME MEMBERSHIP Offer Exclusively For You Get 1 Year Free With 1 and 2Year ET prime membership Offer Exclusively For You Get 1 Year Free With 1 and 2Year ET prime membership Offer Exclusively For You Get Flat 40 Off Then  1749 for 1 year Offer Exclusively For You ET Prime at  49 for 1 month Then  1749 for 1 year Freedom Offer Get flat 20 off on ETPrime 90 Days Prime access worth Rs999 unlocked for you Exclusive Economic Times Stories, Editorials  Expert opinion across 20 sectors Stock analysis. Market Research. Industry Trends on 4000 Stocks Get 1 Year Complimentary Subscription of TOI worth Rs.799 Stories you might be interested in\n",
            "Summary and text saved for URL 4\n",
            "Processing URL 5/20: https://economictimes.indiatimes.com/news/india/curfew-in-manipurs-pherzawl-and-jiribam-districts-on-fears-of-illegal-immigrant-influx-from-bangladesh/articleshow/112326111.cms\n",
            "Cleaned Web-scraped data:\n",
            " Catch all the Business News, Breaking News, Budget 2024 Events and Latest News Updates on The Economic Times. Subscribe to The Economic Times Prime and read the ET ePaper online. Catch all the Business News, Breaking News, Budget 2024 Events and Latest News Updates on The Economic Times. Subscribe to The Economic Times Prime and read the ET ePaper online. IndiGos stretch from nofrills to business class has a DNA test coming There is a dark side to Zomato. But that is what will drive future profits. Five key problems for India arising from the coup in Bangladesh Indias journey from Dand to Nyay to tackle economic offences The Japanese market collapse kills yencarry trade. Whats in store for investors? Investors face weapons of mass destruction in Yen and the gun Worry not. Youre just a step away. It seems like youre already an ETPrime member with Login using your ET Prime credentials to enjoy all member benefits Log out of your current loggedin account and log in again using your ET Prime credentials to enjoy all member benefits. To read full story, subscribe to ET Prime 34 per week Billed annually at 2499 1749 Super Saver Sale  Flat 30 Off On ET Prime Membership Offer Exclusively For You Save up to Rs. 700 ON ET PRIME MEMBERSHIP Offer Exclusively For You Get 1 Year Free With 1 and 2Year ET prime membership Offer Exclusively For You Get 1 Year Free With 1 and 2Year ET prime membership Offer Exclusively For You Get Flat 40 Off Then  1749 for 1 year Offer Exclusively For You ET Prime at  49 for 1 month Then  1749 for 1 year Freedom Offer Get flat 20 off on ETPrime 90 Days Prime access worth Rs999 unlocked for you Exclusive Economic Times Stories, Editorials  Expert opinion across 20 sectors Stock analysis. Market Research. Industry Trends on 4000 Stocks Get 1 Year Complimentary Subscription of TOI worth Rs.799 Stories you might be interested in\n",
            "Summary and text saved for URL 5\n",
            "Processing URL 6/20: https://timesofindia.indiatimes.com/technology/laptops-pc/apple-macbook-air-m1-is-available-for-rs-52641-only-on-amazon-check-bank-offers-and-discount/articleshow/112326386.cms\n",
            "Cleaned Web-scraped data:\n",
            " \n",
            "No summary available for URL 6\n",
            "Processing URL 7/20: https://economictimes.indiatimes.com/news/international/world-news/khaleda-zia-bitterest-foe-of-sheikh-hasina-freed-after-bangladesh-pm-flees/articleshow/112326213.cms\n",
            "Cleaned Web-scraped data:\n",
            " Catch all the Business News, Breaking News, Budget 2024 Events and Latest News Updates on The Economic Times. Subscribe to The Economic Times Prime and read the ET ePaper online. Catch all the Business News, Breaking News, Budget 2024 Events and Latest News Updates on The Economic Times. Subscribe to The Economic Times Prime and read the ET ePaper online. IndiGos stretch from nofrills to business class has a DNA test coming There is a dark side to Zomato. But that is what will drive future profits. Five key problems for India arising from the coup in Bangladesh Indias journey from Dand to Nyay to tackle economic offences The Japanese market collapse kills yencarry trade. Whats in store for investors? Investors face weapons of mass destruction in Yen and the gun Worry not. Youre just a step away. It seems like youre already an ETPrime member with Login using your ET Prime credentials to enjoy all member benefits Log out of your current loggedin account and log in again using your ET Prime credentials to enjoy all member benefits. To read full story, subscribe to ET Prime 34 per week Billed annually at 2499 1749 Super Saver Sale  Flat 30 Off On ET Prime Membership Offer Exclusively For You Save up to Rs. 700 ON ET PRIME MEMBERSHIP Offer Exclusively For You Get 1 Year Free With 1 and 2Year ET prime membership Offer Exclusively For You Get 1 Year Free With 1 and 2Year ET prime membership Offer Exclusively For You Get Flat 40 Off Then  1749 for 1 year Offer Exclusively For You ET Prime at  49 for 1 month Then  1749 for 1 year Freedom Offer Get flat 20 off on ETPrime 90 Days Prime access worth Rs999 unlocked for you Exclusive Economic Times Stories, Editorials  Expert opinion across 20 sectors Stock analysis. Market Research. Industry Trends on 4000 Stocks Get 1 Year Complimentary Subscription of TOI worth Rs.799 Stories you might be interested in\n",
            "Summary and text saved for URL 7\n",
            "Processing URL 8/20: https://economictimes.indiatimes.com/markets/stocks/etmarkets-podcast/stock-markets-fail-to-keep-the-momentum-up-financials-drag/podcast/112326162.cms\n",
            "Cleaned Web-scraped data:\n",
            " \n",
            "No summary available for URL 8\n",
            "Processing URL 9/20: https://timesofindia.indiatimes.com/technology/mobiles-tabs/apple-iphone-15-is-available-for-just-rs-31105-on-amazon-heres-how-the-deal-works/articleshow/112325879.cms\n",
            "Cleaned Web-scraped data:\n",
            " \n",
            "No summary available for URL 9\n",
            "Processing URL 10/20: https://economictimes.indiatimes.com/news/international/world-news/bangladesh-crisis-from-iron-lady-to-asylum-seeker-a-timeline-of-sheikh-hasinas-downfall/videoshow/112325848.cms\n",
            "Cleaned Web-scraped data:\n",
            " A massive political upheaval has jolted Bangladesh, drawing the worlds attention to the South Asian nation. Known as the Iron Lady, Shiekh Hasina, on August 05, resigned as Bangladesh Prime Minister and fled the country. The unwilling resignation came amid the massive unrest against the controversial quota system in government jobs. But what led to the sudden downfall of a 4time PM that even forced her to flee the nation founded by her father, a series of events that unfolded sheds light on her downfall before Bangabandhus legacy went for a toss. Notably, Hasina landed in India on August 05, later met NSA Ajit Doval and sought advice on her future course of action.\n",
            "Summary and text saved for URL 10\n",
            "Processing URL 11/20: https://timesofindia.indiatimes.com/city/mumbai/maharashtra-cm-shinde-contacts-mea-for-students-from-state-in-bangladesh/articleshow/112325468.cms\n",
            "Cleaned Web-scraped data:\n",
            " 8 flowers and plants that will attract birds to your garden 9 habits which will keep your skin young 10 delicious dishes to pair with Idli beyond Sambhar International Tiger Day Indian national parks famous for Bengal tigers 10 negative impacts of strict parenting International Beer Day 2024 8 types of beer and ingredients used in making them Beautiful baby girl names with letter M 10 most famous wildlife safaris across the globe Sawan special Easy Makhana Mango Barfi made under 10 mins 10 bird species extinct due to loss of habitat\n",
            "Summary and text saved for URL 11\n",
            "Processing URL 12/20: https://economictimes.indiatimes.com/news/economy/foreign-trade/trade-continues-between-tripura-and-bangladesh-but-volume-drops-amid-turmoil/articleshow/112324817.cms\n",
            "Cleaned Web-scraped data:\n",
            " Catch all the Business News, Breaking News, Budget 2024 Events and Latest News Updates on The Economic Times. Subscribe to The Economic Times Prime and read the ET ePaper online. Catch all the Business News, Breaking News, Budget 2024 Events and Latest News Updates on The Economic Times. Subscribe to The Economic Times Prime and read the ET ePaper online. IndiGos stretch from nofrills to business class has a DNA test coming There is a dark side to Zomato. But that is what will drive future profits. Five key problems for India arising from the coup in Bangladesh Indias journey from Dand to Nyay to tackle economic offences The Japanese market collapse kills yencarry trade. Whats in store for investors? Investors face weapons of mass destruction in Yen and the gun Worry not. Youre just a step away. It seems like youre already an ETPrime member with Login using your ET Prime credentials to enjoy all member benefits Log out of your current loggedin account and log in again using your ET Prime credentials to enjoy all member benefits. To read full story, subscribe to ET Prime 34 per week Billed annually at 2499 1749 Super Saver Sale  Flat 30 Off On ET Prime Membership Offer Exclusively For You Save up to Rs. 700 ON ET PRIME MEMBERSHIP Offer Exclusively For You Get 1 Year Free With 1 and 2Year ET prime membership Offer Exclusively For You Get 1 Year Free With 1 and 2Year ET prime membership Offer Exclusively For You Get Flat 40 Off Then  1749 for 1 year Offer Exclusively For You ET Prime at  49 for 1 month Then  1749 for 1 year Freedom Offer Get flat 20 off on ETPrime 90 Days Prime access worth Rs999 unlocked for you Exclusive Economic Times Stories, Editorials  Expert opinion across 20 sectors Stock analysis. Market Research. Industry Trends on 4000 Stocks Get 1 Year Complimentary Subscription of TOI worth Rs.799 Stories you might be interested in\n",
            "Summary and text saved for URL 12\n",
            "Processing URL 13/20: https://economictimes.indiatimes.com/news/india/with-rafales-in-air-and-radars-active-how-india-ensured-safety-of-sheikh-hasinas-jet/videoshow/112325167.cms\n",
            "Cleaned Web-scraped data:\n",
            " AntiGovernment protests turned deadly in Bangladesh demanding Prime Minister Sheikh Hasinas resignation. Sheikh Hasina resigned as Prime Minister and fled to India, protesters stormed her official residence in Dhaka. Indian security agencies were prepared for any contingency as Sheikh Hasina was headed towards India. IAF radars were monitoring air space over Bangladesh and detected an aircraft around 3 PM coming towards India. The aircraft was allowed to move inside India as the air defence personnel knew who was inside the plane. In a bid to provide safe passage, two Rafale jets from the 101 squadron from Hashimara air base in Bengal were airborne.\n",
            "Summary and text saved for URL 13\n",
            "Processing URL 14/20: https://economictimes.indiatimes.com/news/india/bsf-deploys-11-battalions-1-water-wing-on-high-alert-along-indo-bangladesh-border/articleshow/112324931.cms\n",
            "Cleaned Web-scraped data:\n",
            " Catch all the Business News, Breaking News, Budget 2024 Events and Latest News Updates on The Economic Times. Subscribe to The Economic Times Prime and read the ET ePaper online. Catch all the Business News, Breaking News, Budget 2024 Events and Latest News Updates on The Economic Times. Subscribe to The Economic Times Prime and read the ET ePaper online. IndiGos stretch from nofrills to business class has a DNA test coming There is a dark side to Zomato. But that is what will drive future profits. Five key problems for India arising from the coup in Bangladesh Indias journey from Dand to Nyay to tackle economic offences The Japanese market collapse kills yencarry trade. Whats in store for investors? Investors face weapons of mass destruction in Yen and the gun Worry not. Youre just a step away. It seems like youre already an ETPrime member with Login using your ET Prime credentials to enjoy all member benefits Log out of your current loggedin account and log in again using your ET Prime credentials to enjoy all member benefits. To read full story, subscribe to ET Prime 34 per week Billed annually at 2499 1749 Super Saver Sale  Flat 30 Off On ET Prime Membership Offer Exclusively For You Save up to Rs. 700 ON ET PRIME MEMBERSHIP Offer Exclusively For You Get 1 Year Free With 1 and 2Year ET prime membership Offer Exclusively For You Get 1 Year Free With 1 and 2Year ET prime membership Offer Exclusively For You Get Flat 40 Off Then  1749 for 1 year Offer Exclusively For You ET Prime at  49 for 1 month Then  1749 for 1 year Freedom Offer Get flat 20 off on ETPrime 90 Days Prime access worth Rs999 unlocked for you Exclusive Economic Times Stories, Editorials  Expert opinion across 20 sectors Stock analysis. Market Research. Industry Trends on 4000 Stocks Get 1 Year Complimentary Subscription of TOI worth Rs.799 Stories you might be interested in\n",
            "Summary and text saved for URL 14\n",
            "Processing URL 15/20: https://economictimes.indiatimes.com/news/international/world-news/eu-diplomats-in-bangladesh-very-concerned-about-reports-of-attacks-on-minorities-statement/articleshow/112324899.cms\n",
            "Cleaned Web-scraped data:\n",
            " Catch all the Business News, Breaking News, Budget 2024 Events and Latest News Updates on The Economic Times. Subscribe to The Economic Times Prime and read the ET ePaper online. Catch all the Business News, Breaking News, Budget 2024 Events and Latest News Updates on The Economic Times. Subscribe to The Economic Times Prime and read the ET ePaper online. IndiGos stretch from nofrills to business class has a DNA test coming There is a dark side to Zomato. But that is what will drive future profits. Five key problems for India arising from the coup in Bangladesh Indias journey from Dand to Nyay to tackle economic offences The Japanese market collapse kills yencarry trade. Whats in store for investors? Investors face weapons of mass destruction in Yen and the gun Stories you might be interested in\n",
            "Summary and text saved for URL 15\n",
            "Processing URL 16/20: https://timesofindia.indiatimes.com/india/dhaka-flights-ai-operated-one-on-tuesday-indigo-vistara-to-fly-on-wednesday/articleshow/112324713.cms\n",
            "Cleaned Web-scraped data:\n",
            " 8 flowers and plants that will attract birds to your garden 9 habits which will keep your skin young 10 delicious dishes to pair with Idli beyond Sambhar International Tiger Day Indian national parks famous for Bengal tigers 10 negative impacts of strict parenting International Beer Day 2024 8 types of beer and ingredients used in making them Beautiful baby girl names with letter M 10 most famous wildlife safaris across the globe Sawan special Easy Makhana Mango Barfi made under 10 mins 10 bird species extinct due to loss of habitat\n",
            "Summary and text saved for URL 16\n",
            "Processing URL 17/20: https://www.bbc.co.uk/programmes/w172zb903hstsn0\n",
            "Cleaned Web-scraped data:\n",
            " Tim Walz, the governor of Minnesota, is her potential vicepresident. The US VicePresident Kamala Harris has chosen the governor of Minnesota, Tim Walz, as her running mate for Novembers presidential election. We hear from one of his old friends. Also on the programme the president of Bangladesh has dissolved parliament to enable a new government to be formed, a day after the prime minister, Sheikh Hasina, was ousted by protesters. And the British government condemns Elon Musks comments that civil war is inevitable in Britain as unrest continues across the country. Picture VP Candidate Tim Walz, the current governor of Minnesota. Credit Reuters 28 days left to listen 50 minutes See all episodes from Newshour Interviews, news and analysis of the days global events.\n",
            "Summary and text saved for URL 17\n",
            "Processing URL 18/20: https://economictimes.indiatimes.com/news/politics-and-nation/bangladesh-unrest-everyone-has-to-accept-the-importance-of-the-caa-says-suvendu-adhikari/videoshow/112324334.cms\n",
            "Cleaned Web-scraped data:\n",
            " Delhi On the situation in Bangladesh, West Bengal LoP and BJP leader Suvendu Adhikari says, ... Seeing the situation of minorities in Bangladesh, everyone has to accept the importance of the CAA... History is being repeated in Bangladesh. Minority Hindus and temples are being attacked.\n",
            "Summary and text saved for URL 18\n",
            "Processing URL 19/20: https://timesofindia.indiatimes.com/india/bihar-govt-hopes-for-early-restoration-of-democracy-in-trouble-torn-bangladesh/articleshow/112324153.cms\n",
            "Cleaned Web-scraped data:\n",
            " 8 flowers and plants that will attract birds to your garden 9 habits which will keep your skin young 10 delicious dishes to pair with Idli beyond Sambhar International Tiger Day Indian national parks famous for Bengal tigers 10 negative impacts of strict parenting International Beer Day 2024 8 types of beer and ingredients used in making them Beautiful baby girl names with letter M 10 most famous wildlife safaris across the globe Sawan special Easy Makhana Mango Barfi made under 10 mins 10 bird species extinct due to loss of habitat\n",
            "Summary and text saved for URL 19\n",
            "Processing URL 20/20: https://timesofindia.indiatimes.com/india/vhp-urges-centre-to-ensure-safety-of-hindus-and-other-minorities-in-bangladesh/articleshow/112323760.cms\n",
            "Cleaned Web-scraped data:\n",
            " The TOI News Desk comprises a dedicated and tireless team of journalists who operate around the clock to deliver the most current and comprehensive news and updates to the readers of The Times of India worldwide. With an unwavering commitment to excellence in journalism, our team is at the forefront of gathering, verifying, and presenting breaking news, indepth analysis, and insightful reports on a wide range of topics. The TOI News Desk is your trusted source for staying informed and connected to the everevolving global landscape, ensuring that our readers are equipped with the latest developments that matter most.Read More 8 flowers and plants that will attract birds to your garden 9 habits which will keep your skin young 10 delicious dishes to pair with Idli beyond Sambhar International Tiger Day Indian national parks famous for Bengal tigers 10 negative impacts of strict parenting International Beer Day 2024 8 types of beer and ingredients used in making them Beautiful baby girl names with letter M 10 most famous wildlife safaris across the globe Sawan special Easy Makhana Mango Barfi made under 10 mins 10 bird species extinct due to loss of habitat\n",
            "Summary and text saved for URL 20\n",
            "Catch all the Business News, Breaking News, Budget 2024 Events and Latest News Updates on The Economic Times. Subscribe to The Economic Times Prime and read the ET ePaper online. Catch all the Business News, Breaking News, Budget 2024 Events and Latest News Updates on The Economic Times. Subscribe to The Economic Times Prime and read the ET ePaper online. Bhavish Aggarwals long road from Kabul to Koramangala Ajay Tyagis UTI Flexi Cap Fund has underperformed. He is now betting on this idea. There is a dark side to Zomato. But that is what will drive future profits. Indias journey from Dand to Nyay to tackle economic offences Investors face weapons of mass destruction in Yen and the gun Five key problems for India arising from the coup in Bangladesh Worry not. Youre just a step away. It seems like youre already an ETPrime member with Login using your ET Prime credentials to enjoy all member benefits Log out of your current loggedin account and log in again using your ET Prime credentials to enjoy all member benefits. To read full story, subscribe to ET Prime 34 per week Billed annually at 2499 1749 Super Saver Sale  Flat 30 Off On ET Prime Membership Offer Exclusively For You Save up to Rs. 700 ON ET PRIME MEMBERSHIP Offer Exclusively For You Get 1 Year Free With 1 and 2Year ET prime membership Offer Exclusively For You Get 1 Year Free With 1 and 2Year ET prime membership Offer Exclusively For You Get Flat 40 Off Then  1749 for 1 year Offer Exclusively For You ET Prime at  49 for 1 month Then  1749 for 1 year Freedom Offer Get flat 20 off on ETPrime 90 Days Prime access worth Rs999 unlocked for you Exclusive Economic Times Stories, Editorials  Expert opinion across 20 sectors Stock analysis. Market Research. Industry Trends on 4000 Stocks Get 1 Year Complimentary Subscription of TOI worth Rs.799 Stories you might be interested inCatch all the Business News, Breaking News, Budget 2024 Events and Latest News Updates on The Economic Times. Subscribe to The Economic Times Prime and read the ET ePaper online. Catch all the Business News, Breaking News, Budget 2024 Events and Latest News Updates on The Economic Times. Subscribe to The Economic Times Prime and read the ET ePaper online. IndiGos stretch from nofrills to business class has a DNA test coming There is a dark side to Zomato. But that is what will drive future profits. Five key problems for India arising from the coup in Bangladesh Indias journey from Dand to Nyay to tackle economic offences The Japanese market collapse kills yencarry trade. Whats in store for investors? Investors face weapons of mass destruction in Yen and the gun Worry not. Youre just a step away. It seems like youre already an ETPrime member with Login using your ET Prime credentials to enjoy all member benefits Log out of your current loggedin account and log in again using your ET Prime credentials to enjoy all member benefits. To read full story, subscribe to ET Prime 34 per week Billed annually at 2499 1749 Super Saver Sale  Flat 30 Off On ET Prime Membership Offer Exclusively For You Save up to Rs. 700 ON ET PRIME MEMBERSHIP Offer Exclusively For You Get 1 Year Free With 1 and 2Year ET prime membership Offer Exclusively For You Get 1 Year Free With 1 and 2Year ET prime membership Offer Exclusively For You Get Flat 40 Off Then  1749 for 1 year Offer Exclusively For You ET Prime at  49 for 1 month Then  1749 for 1 year Freedom Offer Get flat 20 off on ETPrime 90 Days Prime access worth Rs999 unlocked for you Exclusive Economic Times Stories, Editorials  Expert opinion across 20 sectors Stock analysis. Market Research. Industry Trends on 4000 Stocks Get 1 Year Complimentary Subscription of TOI worth Rs.799 Stories you might be interested in8 flowers and plants that will attract birds to your garden 9 habits which will keep your skin young 10 delicious dishes to pair with Idli beyond Sambhar International Tiger Day Indian national parks famous for Bengal tigers 10 negative impacts of strict parenting International Beer Day 2024 8 types of beer and ingredients used in making them Beautiful baby girl names with letter M 10 most famous wildlife safaris across the globe Sawan special Easy Makhana Mango Barfi made under 10 mins 10 bird species extinct due to loss of habitatCatch all the Business News, Breaking News, Budget 2024 Events and Latest News Updates on The Economic Times. Subscribe to The Economic Times Prime and read the ET ePaper online. Catch all the Business News, Breaking News, Budget 2024 Events and Latest News Updates on The Economic Times. Subscribe to The Economic Times Prime and read the ET ePaper online. Bhavish Aggarwals long road from Kabul to Koramangala Ajay Tyagi is betting on this idea. Will it help him to outperform the benchmark? Why Nvidias stock fall reminds us of Amazon during the dotcom mania What exactly is being done about those annoying spam calls? There is a dark side to Zomato. But that is what will drive future profits. Indias journey from Dand to Nyay to tackle economic offences Worry not. Youre just a step away. It seems like youre already an ETPrime member with Login using your ET Prime credentials to enjoy all member benefits Log out of your current loggedin account and log in again using your ET Prime credentials to enjoy all member benefits. To read full story, subscribe to ET Prime 34 per week Billed annually at 2499 1749 Super Saver Sale  Flat 30 Off On ET Prime Membership Offer Exclusively For You Save up to Rs. 700 ON ET PRIME MEMBERSHIP Offer Exclusively For You Get 1 Year Free With 1 and 2Year ET prime membership Offer Exclusively For You Get 1 Year Free With 1 and 2Year ET prime membership Offer Exclusively For You Get Flat 40 Off Then  1749 for 1 year Offer Exclusively For You ET Prime at  49 for 1 month Then  1749 for 1 year Freedom Offer Get flat 20 off on ETPrime 90 Days Prime access worth Rs999 unlocked for you Exclusive Economic Times Stories, Editorials  Expert opinion across 20 sectors Stock analysis. Market Research. Industry Trends on 4000 Stocks Get 1 Year Complimentary Subscription of TOI worth Rs.799 Stories you might be interested inCatch all the Business News, Breaking News, Budget 2024 Events and Latest News Updates on The Economic Times. Subscribe to The Economic Times Prime and read the ET ePaper online. Catch all the Business News, Breaking News, Budget 2024 Events and Latest News Updates on The Economic Times. Subscribe to The Economic Times Prime and read the ET ePaper online. IndiGos stretch from nofrills to business class has a DNA test coming There is a dark side to Zomato. But that is what will drive future profits. Five key problems for India arising from the coup in Bangladesh Indias journey from Dand to Nyay to tackle economic offences The Japanese market collapse kills yencarry trade. Whats in store for investors? Investors face weapons of mass destruction in Yen and the gun Worry not. Youre just a step away. It seems like youre already an ETPrime member with Login using your ET Prime credentials to enjoy all member benefits Log out of your current loggedin account and log in again using your ET Prime credentials to enjoy all member benefits. To read full story, subscribe to ET Prime 34 per week Billed annually at 2499 1749 Super Saver Sale  Flat 30 Off On ET Prime Membership Offer Exclusively For You Save up to Rs. 700 ON ET PRIME MEMBERSHIP Offer Exclusively For You Get 1 Year Free With 1 and 2Year ET prime membership Offer Exclusively For You Get 1 Year Free With 1 and 2Year ET prime membership Offer Exclusively For You Get Flat 40 Off Then  1749 for 1 year Offer Exclusively For You ET Prime at  49 for 1 month Then  1749 for 1 year Freedom Offer Get flat 20 off on ETPrime 90 Days Prime access worth Rs999 unlocked for you Exclusive Economic Times Stories, Editorials  Expert opinion across 20 sectors Stock analysis. Market Research. Industry Trends on 4000 Stocks Get 1 Year Complimentary Subscription of TOI worth Rs.799 Stories you might be interested inCatch all the Business News, Breaking News, Budget 2024 Events and Latest News Updates on The Economic Times. Subscribe to The Economic Times Prime and read the ET ePaper online. Catch all the Business News, Breaking News, Budget 2024 Events and Latest News Updates on The Economic Times. Subscribe to The Economic Times Prime and read the ET ePaper online. IndiGos stretch from nofrills to business class has a DNA test coming There is a dark side to Zomato. But that is what will drive future profits. Five key problems for India arising from the coup in Bangladesh Indias journey from Dand to Nyay to tackle economic offences The Japanese market collapse kills yencarry trade. Whats in store for investors? Investors face weapons of mass destruction in Yen and the gun Worry not. Youre just a step away. It seems like youre already an ETPrime member with Login using your ET Prime credentials to enjoy all member benefits Log out of your current loggedin account and log in again using your ET Prime credentials to enjoy all member benefits. To read full story, subscribe to ET Prime 34 per week Billed annually at 2499 1749 Super Saver Sale  Flat 30 Off On ET Prime Membership Offer Exclusively For You Save up to Rs. 700 ON ET PRIME MEMBERSHIP Offer Exclusively For You Get 1 Year Free With 1 and 2Year ET prime membership Offer Exclusively For You Get 1 Year Free With 1 and 2Year ET prime membership Offer Exclusively For You Get Flat 40 Off Then  1749 for 1 year Offer Exclusively For You ET Prime at  49 for 1 month Then  1749 for 1 year Freedom Offer Get flat 20 off on ETPrime 90 Days Prime access worth Rs999 unlocked for you Exclusive Economic Times Stories, Editorials  Expert opinion across 20 sectors Stock analysis. Market Research. Industry Trends on 4000 Stocks Get 1 Year Complimentary Subscription of TOI worth Rs.799 Stories you might be interested inA massive political upheaval has jolted Bangladesh, drawing the worlds attention to the South Asian nation. Known as the Iron Lady, Shiekh Hasina, on August 05, resigned as Bangladesh Prime Minister and fled the country. The unwilling resignation came amid the massive unrest against the controversial quota system in government jobs. But what led to the sudden downfall of a 4time PM that even forced her to flee the nation founded by her father, a series of events that unfolded sheds light on her downfall before Bangabandhus legacy went for a toss. Notably, Hasina landed in India on August 05, later met NSA Ajit Doval and sought advice on her future course of action.8 flowers and plants that will attract birds to your garden 9 habits which will keep your skin young 10 delicious dishes to pair with Idli beyond Sambhar International Tiger Day Indian national parks famous for Bengal tigers 10 negative impacts of strict parenting International Beer Day 2024 8 types of beer and ingredients used in making them Beautiful baby girl names with letter M 10 most famous wildlife safaris across the globe Sawan special Easy Makhana Mango Barfi made under 10 mins 10 bird species extinct due to loss of habitatCatch all the Business News, Breaking News, Budget 2024 Events and Latest News Updates on The Economic Times. Subscribe to The Economic Times Prime and read the ET ePaper online. Catch all the Business News, Breaking News, Budget 2024 Events and Latest News Updates on The Economic Times. Subscribe to The Economic Times Prime and read the ET ePaper online. IndiGos stretch from nofrills to business class has a DNA test coming There is a dark side to Zomato. But that is what will drive future profits. Five key problems for India arising from the coup in Bangladesh Indias journey from Dand to Nyay to tackle economic offences The Japanese market collapse kills yencarry trade. Whats in store for investors? Investors face weapons of mass destruction in Yen and the gun Worry not. Youre just a step away. It seems like youre already an ETPrime member with Login using your ET Prime credentials to enjoy all member benefits Log out of your current loggedin account and log in again using your ET Prime credentials to enjoy all member benefits. To read full story, subscribe to ET Prime 34 per week Billed annually at 2499 1749 Super Saver Sale  Flat 30 Off On ET Prime Membership Offer Exclusively For You Save up to Rs. 700 ON ET PRIME MEMBERSHIP Offer Exclusively For You Get 1 Year Free With 1 and 2Year ET prime membership Offer Exclusively For You Get 1 Year Free With 1 and 2Year ET prime membership Offer Exclusively For You Get Flat 40 Off Then  1749 for 1 year Offer Exclusively For You ET Prime at  49 for 1 month Then  1749 for 1 year Freedom Offer Get flat 20 off on ETPrime 90 Days Prime access worth Rs999 unlocked for you Exclusive Economic Times Stories, Editorials  Expert opinion across 20 sectors Stock analysis. Market Research. Industry Trends on 4000 Stocks Get 1 Year Complimentary Subscription of TOI worth Rs.799 Stories you might be interested inAntiGovernment protests turned deadly in Bangladesh demanding Prime Minister Sheikh Hasinas resignation. Sheikh Hasina resigned as Prime Minister and fled to India, protesters stormed her official residence in Dhaka. Indian security agencies were prepared for any contingency as Sheikh Hasina was headed towards India. IAF radars were monitoring air space over Bangladesh and detected an aircraft around 3 PM coming towards India. The aircraft was allowed to move inside India as the air defence personnel knew who was inside the plane. In a bid to provide safe passage, two Rafale jets from the 101 squadron from Hashimara air base in Bengal were airborne.Catch all the Business News, Breaking News, Budget 2024 Events and Latest News Updates on The Economic Times. Subscribe to The Economic Times Prime and read the ET ePaper online. Catch all the Business News, Breaking News, Budget 2024 Events and Latest News Updates on The Economic Times. Subscribe to The Economic Times Prime and read the ET ePaper online. IndiGos stretch from nofrills to business class has a DNA test coming There is a dark side to Zomato. But that is what will drive future profits. Five key problems for India arising from the coup in Bangladesh Indias journey from Dand to Nyay to tackle economic offences The Japanese market collapse kills yencarry trade. Whats in store for investors? Investors face weapons of mass destruction in Yen and the gun Worry not. Youre just a step away. It seems like youre already an ETPrime member with Login using your ET Prime credentials to enjoy all member benefits Log out of your current loggedin account and log in again using your ET Prime credentials to enjoy all member benefits. To read full story, subscribe to ET Prime 34 per week Billed annually at 2499 1749 Super Saver Sale  Flat 30 Off On ET Prime Membership Offer Exclusively For You Save up to Rs. 700 ON ET PRIME MEMBERSHIP Offer Exclusively For You Get 1 Year Free With 1 and 2Year ET prime membership Offer Exclusively For You Get 1 Year Free With 1 and 2Year ET prime membership Offer Exclusively For You Get Flat 40 Off Then  1749 for 1 year Offer Exclusively For You ET Prime at  49 for 1 month Then  1749 for 1 year Freedom Offer Get flat 20 off on ETPrime 90 Days Prime access worth Rs999 unlocked for you Exclusive Economic Times Stories, Editorials  Expert opinion across 20 sectors Stock analysis. Market Research. Industry Trends on 4000 Stocks Get 1 Year Complimentary Subscription of TOI worth Rs.799 Stories you might be interested inCatch all the Business News, Breaking News, Budget 2024 Events and Latest News Updates on The Economic Times. Subscribe to The Economic Times Prime and read the ET ePaper online. Catch all the Business News, Breaking News, Budget 2024 Events and Latest News Updates on The Economic Times. Subscribe to The Economic Times Prime and read the ET ePaper online. IndiGos stretch from nofrills to business class has a DNA test coming There is a dark side to Zomato. But that is what will drive future profits. Five key problems for India arising from the coup in Bangladesh Indias journey from Dand to Nyay to tackle economic offences The Japanese market collapse kills yencarry trade. Whats in store for investors? Investors face weapons of mass destruction in Yen and the gun Stories you might be interested in8 flowers and plants that will attract birds to your garden 9 habits which will keep your skin young 10 delicious dishes to pair with Idli beyond Sambhar International Tiger Day Indian national parks famous for Bengal tigers 10 negative impacts of strict parenting International Beer Day 2024 8 types of beer and ingredients used in making them Beautiful baby girl names with letter M 10 most famous wildlife safaris across the globe Sawan special Easy Makhana Mango Barfi made under 10 mins 10 bird species extinct due to loss of habitatTim Walz, the governor of Minnesota, is her potential vicepresident. The US VicePresident Kamala Harris has chosen the governor of Minnesota, Tim Walz, as her running mate for Novembers presidential election. We hear from one of his old friends. Also on the programme the president of Bangladesh has dissolved parliament to enable a new government to be formed, a day after the prime minister, Sheikh Hasina, was ousted by protesters. And the British government condemns Elon Musks comments that civil war is inevitable in Britain as unrest continues across the country. Picture VP Candidate Tim Walz, the current governor of Minnesota. Credit Reuters 28 days left to listen 50 minutes See all episodes from Newshour Interviews, news and analysis of the days global events.Delhi On the situation in Bangladesh, West Bengal LoP and BJP leader Suvendu Adhikari says, ... Seeing the situation of minorities in Bangladesh, everyone has to accept the importance of the CAA... History is being repeated in Bangladesh. Minority Hindus and temples are being attacked.8 flowers and plants that will attract birds to your garden 9 habits which will keep your skin young 10 delicious dishes to pair with Idli beyond Sambhar International Tiger Day Indian national parks famous for Bengal tigers 10 negative impacts of strict parenting International Beer Day 2024 8 types of beer and ingredients used in making them Beautiful baby girl names with letter M 10 most famous wildlife safaris across the globe Sawan special Easy Makhana Mango Barfi made under 10 mins 10 bird species extinct due to loss of habitatThe TOI News Desk comprises a dedicated and tireless team of journalists who operate around the clock to deliver the most current and comprehensive news and updates to the readers of The Times of India worldwide. With an unwavering commitment to excellence in journalism, our team is at the forefront of gathering, verifying, and presenting breaking news, indepth analysis, and insightful reports on a wide range of topics. The TOI News Desk is your trusted source for staying informed and connected to the everevolving global landscape, ensuring that our readers are equipped with the latest developments that matter most.Read More 8 flowers and plants that will attract birds to your garden 9 habits which will keep your skin young 10 delicious dishes to pair with Idli beyond Sambhar International Tiger Day Indian national parks famous for Bengal tigers 10 negative impacts of strict parenting International Beer Day 2024 8 types of beer and ingredients used in making them Beautiful baby girl names with letter M 10 most famous wildlife safaris across the globe Sawan special Easy Makhana Mango Barfi made under 10 mins 10 bird species extinct due to loss of habitat\n"
          ]
        }
      ],
      "source": [
        "text=all_sentiment_analysis()"
      ]
    },
    {
      "cell_type": "code",
      "execution_count": 27,
      "metadata": {
        "colab": {
          "base_uri": "https://localhost:8080/",
          "height": 1000
        },
        "id": "oc-SXQ5aDxzq",
        "outputId": "4b16e73b-cfe3-4d84-829c-c13284752191"
      },
      "outputs": [
        {
          "data": {
            "image/png": "[encoded data removed]",
            "text/plain": [
              "<Figure size 1000x500 with 1 Axes>"
            ]
          },
          "metadata": {},
          "output_type": "display_data"
        },
        {
          "name": "stdout",
          "output_type": "stream",
          "text": [
            "Combined Sentiment Results:\n",
            "Negative: 0.111\n",
            "Neutral: 0.703\n",
            "Positive: 0.186\n",
            "Compound: 0.987\n",
            "\n",
            "Sentiment Analysis with Flair:\n",
            "Overall Sentiment: Very NEGATIVE\n",
            "Confidence: 94.32%\n"
          ]
        },
        {
          "data": {
            "image/png": "[encoded data removed]",
            "text/plain": [
              "<Figure size 800x400 with 1 Axes>"
            ]
          },
          "metadata": {},
          "output_type": "display_data"
        },
        {
          "name": "stdout",
          "output_type": "stream",
          "text": [
            "\n",
            "\n",
            "Sentiment Analysis using NLTK:\n",
            "{'neg': 0.076, 'neu': 0.772, 'pos': 0.152, 'compound': 0.9998}\n",
            "\n",
            "\n",
            "\n",
            "Sentiment using textblob: Polarity=0.204, Subjectivity=0.448\n"
          ]
        },
        {
          "data": {
            "image/png": "[encoded data removed]",
            "text/plain": [
              "<Figure size 800x400 with 2 Axes>"
            ]
          },
          "metadata": {},
          "output_type": "display_data"
        }
      ],
      "source": [
        "analyse_sentiment_vader(text)\n",
        "analyse_sentiment_flair(text)\n",
        "analyse_sentiment_nltk(text)\n",
        "analyse_sentiment_txtblob(text)\n"
      ]
    },
    {
      "cell_type": "markdown",
      "metadata": {
        "id": "d80T8Iw1JiBL"
      },
      "source": [
        "***Most Accurate Results are achieved by using flair***"
      ]
    },
    {
      "cell_type": "code",
      "execution_count": null,
      "metadata": {
        "id": "oJCE1cO1I2j4"
      },
      "outputs": [],
      "source": []
    }
  ],
  "metadata": {
    "colab": {
      "collapsed_sections": [
        "fa1f_hxS6S6B",
        "l6w_X1U7Yagv"
      ],
      "provenance": []
    },
    "kernelspec": {
      "display_name": "Python 3 (ipykernel)",
      "language": "python",
      "name": "python3"
    },
    "language_info": {
      "codemirror_mode": {
        "name": "ipython",
        "version": 3
      },
      "file_extension": ".py",
      "mimetype": "text/x-python",
      "name": "python",
      "nbconvert_exporter": "python",
      "pygments_lexer": "ipython3",
      "version": "3.12.4"
    }
  },
  "nbformat": 4,
  "nbformat_minor": 0
}
